{
 "cells": [
  {
   "cell_type": "markdown",
   "id": "2d55d395-9a6c-405a-835a-b194b1898a78",
   "metadata": {},
   "source": [
    "## 01. Import Libraries"
   ]
  },
  {
   "cell_type": "code",
   "execution_count": 42,
   "id": "f64023cb-845c-4da6-88f1-95cdcad3a5a3",
   "metadata": {},
   "outputs": [],
   "source": [
    "# Import Libraries\n",
    "import pandas as pd\n",
    "import numpy as np\n",
    "import os\n",
    "import matplotlib.pyplot as plt\n",
    "import seaborn as sns\n",
    "import scipy"
   ]
  },
  {
   "cell_type": "markdown",
   "id": "892c5e43-3be0-460c-9852-dd54cb63b4b0",
   "metadata": {},
   "source": [
    "## 02. Import Data"
   ]
  },
  {
   "cell_type": "code",
   "execution_count": 45,
   "id": "9f556b15-2c65-44bb-953d-0c3e657fbbfb",
   "metadata": {},
   "outputs": [],
   "source": [
    "# define data path:\n",
    "path = r'/Users/piperdutcher/Documents/Achievement 6/02 Data/kc_house_data.csv'"
   ]
  },
  {
   "cell_type": "code",
   "execution_count": 47,
   "id": "d4bab948-c998-4f6d-a8a6-d103f7ce08eb",
   "metadata": {},
   "outputs": [],
   "source": [
    "# import data\n",
    "\n",
    "df = pd.read_csv(os.path.join(path))"
   ]
  },
  {
   "cell_type": "markdown",
   "id": "a90389d2-a54e-4272-ba09-64d558725609",
   "metadata": {},
   "source": [
    "## 03. Data Cleansing / Exploration"
   ]
  },
  {
   "cell_type": "code",
   "execution_count": 50,
   "id": "cd0d4b72-203f-4d06-801c-91de3128e943",
   "metadata": {},
   "outputs": [
    {
     "data": {
      "text/html": [
       "<div>\n",
       "<style scoped>\n",
       "    .dataframe tbody tr th:only-of-type {\n",
       "        vertical-align: middle;\n",
       "    }\n",
       "\n",
       "    .dataframe tbody tr th {\n",
       "        vertical-align: top;\n",
       "    }\n",
       "\n",
       "    .dataframe thead th {\n",
       "        text-align: right;\n",
       "    }\n",
       "</style>\n",
       "<table border=\"1\" class=\"dataframe\">\n",
       "  <thead>\n",
       "    <tr style=\"text-align: right;\">\n",
       "      <th></th>\n",
       "      <th>id</th>\n",
       "      <th>date</th>\n",
       "      <th>price</th>\n",
       "      <th>bedrooms</th>\n",
       "      <th>bathrooms</th>\n",
       "      <th>sqft_living</th>\n",
       "      <th>sqft_lot</th>\n",
       "      <th>floors</th>\n",
       "      <th>waterfront</th>\n",
       "      <th>view</th>\n",
       "      <th>condition</th>\n",
       "      <th>grade</th>\n",
       "      <th>sqft_above</th>\n",
       "      <th>sqft_basement</th>\n",
       "      <th>yr_built</th>\n",
       "      <th>yr_renovated</th>\n",
       "      <th>zipcode</th>\n",
       "      <th>lat</th>\n",
       "      <th>long</th>\n",
       "      <th>sqft_living15</th>\n",
       "      <th>sqft_lot15</th>\n",
       "    </tr>\n",
       "  </thead>\n",
       "  <tbody>\n",
       "    <tr>\n",
       "      <th>0</th>\n",
       "      <td>7129300520</td>\n",
       "      <td>20141013T000000</td>\n",
       "      <td>221900.0</td>\n",
       "      <td>3</td>\n",
       "      <td>1.00</td>\n",
       "      <td>1180</td>\n",
       "      <td>5650</td>\n",
       "      <td>1.0</td>\n",
       "      <td>0</td>\n",
       "      <td>0</td>\n",
       "      <td>3</td>\n",
       "      <td>7</td>\n",
       "      <td>1180</td>\n",
       "      <td>0</td>\n",
       "      <td>1955</td>\n",
       "      <td>0</td>\n",
       "      <td>98178</td>\n",
       "      <td>47.5112</td>\n",
       "      <td>-122.257</td>\n",
       "      <td>1340</td>\n",
       "      <td>5650</td>\n",
       "    </tr>\n",
       "    <tr>\n",
       "      <th>1</th>\n",
       "      <td>6414100192</td>\n",
       "      <td>20141209T000000</td>\n",
       "      <td>538000.0</td>\n",
       "      <td>3</td>\n",
       "      <td>2.25</td>\n",
       "      <td>2570</td>\n",
       "      <td>7242</td>\n",
       "      <td>2.0</td>\n",
       "      <td>0</td>\n",
       "      <td>0</td>\n",
       "      <td>3</td>\n",
       "      <td>7</td>\n",
       "      <td>2170</td>\n",
       "      <td>400</td>\n",
       "      <td>1951</td>\n",
       "      <td>1991</td>\n",
       "      <td>98125</td>\n",
       "      <td>47.7210</td>\n",
       "      <td>-122.319</td>\n",
       "      <td>1690</td>\n",
       "      <td>7639</td>\n",
       "    </tr>\n",
       "    <tr>\n",
       "      <th>2</th>\n",
       "      <td>5631500400</td>\n",
       "      <td>20150225T000000</td>\n",
       "      <td>180000.0</td>\n",
       "      <td>2</td>\n",
       "      <td>1.00</td>\n",
       "      <td>770</td>\n",
       "      <td>10000</td>\n",
       "      <td>1.0</td>\n",
       "      <td>0</td>\n",
       "      <td>0</td>\n",
       "      <td>3</td>\n",
       "      <td>6</td>\n",
       "      <td>770</td>\n",
       "      <td>0</td>\n",
       "      <td>1933</td>\n",
       "      <td>0</td>\n",
       "      <td>98028</td>\n",
       "      <td>47.7379</td>\n",
       "      <td>-122.233</td>\n",
       "      <td>2720</td>\n",
       "      <td>8062</td>\n",
       "    </tr>\n",
       "    <tr>\n",
       "      <th>3</th>\n",
       "      <td>2487200875</td>\n",
       "      <td>20141209T000000</td>\n",
       "      <td>604000.0</td>\n",
       "      <td>4</td>\n",
       "      <td>3.00</td>\n",
       "      <td>1960</td>\n",
       "      <td>5000</td>\n",
       "      <td>1.0</td>\n",
       "      <td>0</td>\n",
       "      <td>0</td>\n",
       "      <td>5</td>\n",
       "      <td>7</td>\n",
       "      <td>1050</td>\n",
       "      <td>910</td>\n",
       "      <td>1965</td>\n",
       "      <td>0</td>\n",
       "      <td>98136</td>\n",
       "      <td>47.5208</td>\n",
       "      <td>-122.393</td>\n",
       "      <td>1360</td>\n",
       "      <td>5000</td>\n",
       "    </tr>\n",
       "    <tr>\n",
       "      <th>4</th>\n",
       "      <td>1954400510</td>\n",
       "      <td>20150218T000000</td>\n",
       "      <td>510000.0</td>\n",
       "      <td>3</td>\n",
       "      <td>2.00</td>\n",
       "      <td>1680</td>\n",
       "      <td>8080</td>\n",
       "      <td>1.0</td>\n",
       "      <td>0</td>\n",
       "      <td>0</td>\n",
       "      <td>3</td>\n",
       "      <td>8</td>\n",
       "      <td>1680</td>\n",
       "      <td>0</td>\n",
       "      <td>1987</td>\n",
       "      <td>0</td>\n",
       "      <td>98074</td>\n",
       "      <td>47.6168</td>\n",
       "      <td>-122.045</td>\n",
       "      <td>1800</td>\n",
       "      <td>7503</td>\n",
       "    </tr>\n",
       "  </tbody>\n",
       "</table>\n",
       "</div>"
      ],
      "text/plain": [
       "           id             date     price  bedrooms  bathrooms  sqft_living  \\\n",
       "0  7129300520  20141013T000000  221900.0         3       1.00         1180   \n",
       "1  6414100192  20141209T000000  538000.0         3       2.25         2570   \n",
       "2  5631500400  20150225T000000  180000.0         2       1.00          770   \n",
       "3  2487200875  20141209T000000  604000.0         4       3.00         1960   \n",
       "4  1954400510  20150218T000000  510000.0         3       2.00         1680   \n",
       "\n",
       "   sqft_lot  floors  waterfront  view  condition  grade  sqft_above  \\\n",
       "0      5650     1.0           0     0          3      7        1180   \n",
       "1      7242     2.0           0     0          3      7        2170   \n",
       "2     10000     1.0           0     0          3      6         770   \n",
       "3      5000     1.0           0     0          5      7        1050   \n",
       "4      8080     1.0           0     0          3      8        1680   \n",
       "\n",
       "   sqft_basement  yr_built  yr_renovated  zipcode      lat     long  \\\n",
       "0              0      1955             0    98178  47.5112 -122.257   \n",
       "1            400      1951          1991    98125  47.7210 -122.319   \n",
       "2              0      1933             0    98028  47.7379 -122.233   \n",
       "3            910      1965             0    98136  47.5208 -122.393   \n",
       "4              0      1987             0    98074  47.6168 -122.045   \n",
       "\n",
       "   sqft_living15  sqft_lot15  \n",
       "0           1340        5650  \n",
       "1           1690        7639  \n",
       "2           2720        8062  \n",
       "3           1360        5000  \n",
       "4           1800        7503  "
      ]
     },
     "execution_count": 50,
     "metadata": {},
     "output_type": "execute_result"
    }
   ],
   "source": [
    "df.head()"
   ]
  },
  {
   "cell_type": "code",
   "execution_count": 52,
   "id": "92589ab1-dc7d-49f3-b5e2-9478496a3255",
   "metadata": {},
   "outputs": [
    {
     "data": {
      "text/html": [
       "<div>\n",
       "<style scoped>\n",
       "    .dataframe tbody tr th:only-of-type {\n",
       "        vertical-align: middle;\n",
       "    }\n",
       "\n",
       "    .dataframe tbody tr th {\n",
       "        vertical-align: top;\n",
       "    }\n",
       "\n",
       "    .dataframe thead th {\n",
       "        text-align: right;\n",
       "    }\n",
       "</style>\n",
       "<table border=\"1\" class=\"dataframe\">\n",
       "  <thead>\n",
       "    <tr style=\"text-align: right;\">\n",
       "      <th></th>\n",
       "      <th>id</th>\n",
       "      <th>date</th>\n",
       "      <th>price</th>\n",
       "      <th>bedrooms</th>\n",
       "      <th>bathrooms</th>\n",
       "      <th>sqft_living</th>\n",
       "      <th>sqft_lot</th>\n",
       "      <th>floors</th>\n",
       "      <th>waterfront</th>\n",
       "      <th>view</th>\n",
       "      <th>condition</th>\n",
       "      <th>grade</th>\n",
       "      <th>sqft_above</th>\n",
       "      <th>sqft_basement</th>\n",
       "      <th>yr_built</th>\n",
       "      <th>yr_renovated</th>\n",
       "      <th>zipcode</th>\n",
       "      <th>lat</th>\n",
       "      <th>long</th>\n",
       "      <th>sqft_living15</th>\n",
       "      <th>sqft_lot15</th>\n",
       "    </tr>\n",
       "  </thead>\n",
       "  <tbody>\n",
       "    <tr>\n",
       "      <th>21608</th>\n",
       "      <td>263000018</td>\n",
       "      <td>20140521T000000</td>\n",
       "      <td>360000.0</td>\n",
       "      <td>3</td>\n",
       "      <td>2.50</td>\n",
       "      <td>1530</td>\n",
       "      <td>1131</td>\n",
       "      <td>3.0</td>\n",
       "      <td>0</td>\n",
       "      <td>0</td>\n",
       "      <td>3</td>\n",
       "      <td>8</td>\n",
       "      <td>1530</td>\n",
       "      <td>0</td>\n",
       "      <td>2009</td>\n",
       "      <td>0</td>\n",
       "      <td>98103</td>\n",
       "      <td>47.6993</td>\n",
       "      <td>-122.346</td>\n",
       "      <td>1530</td>\n",
       "      <td>1509</td>\n",
       "    </tr>\n",
       "    <tr>\n",
       "      <th>21609</th>\n",
       "      <td>6600060120</td>\n",
       "      <td>20150223T000000</td>\n",
       "      <td>400000.0</td>\n",
       "      <td>4</td>\n",
       "      <td>2.50</td>\n",
       "      <td>2310</td>\n",
       "      <td>5813</td>\n",
       "      <td>2.0</td>\n",
       "      <td>0</td>\n",
       "      <td>0</td>\n",
       "      <td>3</td>\n",
       "      <td>8</td>\n",
       "      <td>2310</td>\n",
       "      <td>0</td>\n",
       "      <td>2014</td>\n",
       "      <td>0</td>\n",
       "      <td>98146</td>\n",
       "      <td>47.5107</td>\n",
       "      <td>-122.362</td>\n",
       "      <td>1830</td>\n",
       "      <td>7200</td>\n",
       "    </tr>\n",
       "    <tr>\n",
       "      <th>21610</th>\n",
       "      <td>1523300141</td>\n",
       "      <td>20140623T000000</td>\n",
       "      <td>402101.0</td>\n",
       "      <td>2</td>\n",
       "      <td>0.75</td>\n",
       "      <td>1020</td>\n",
       "      <td>1350</td>\n",
       "      <td>2.0</td>\n",
       "      <td>0</td>\n",
       "      <td>0</td>\n",
       "      <td>3</td>\n",
       "      <td>7</td>\n",
       "      <td>1020</td>\n",
       "      <td>0</td>\n",
       "      <td>2009</td>\n",
       "      <td>0</td>\n",
       "      <td>98144</td>\n",
       "      <td>47.5944</td>\n",
       "      <td>-122.299</td>\n",
       "      <td>1020</td>\n",
       "      <td>2007</td>\n",
       "    </tr>\n",
       "    <tr>\n",
       "      <th>21611</th>\n",
       "      <td>291310100</td>\n",
       "      <td>20150116T000000</td>\n",
       "      <td>400000.0</td>\n",
       "      <td>3</td>\n",
       "      <td>2.50</td>\n",
       "      <td>1600</td>\n",
       "      <td>2388</td>\n",
       "      <td>2.0</td>\n",
       "      <td>0</td>\n",
       "      <td>0</td>\n",
       "      <td>3</td>\n",
       "      <td>8</td>\n",
       "      <td>1600</td>\n",
       "      <td>0</td>\n",
       "      <td>2004</td>\n",
       "      <td>0</td>\n",
       "      <td>98027</td>\n",
       "      <td>47.5345</td>\n",
       "      <td>-122.069</td>\n",
       "      <td>1410</td>\n",
       "      <td>1287</td>\n",
       "    </tr>\n",
       "    <tr>\n",
       "      <th>21612</th>\n",
       "      <td>1523300157</td>\n",
       "      <td>20141015T000000</td>\n",
       "      <td>325000.0</td>\n",
       "      <td>2</td>\n",
       "      <td>0.75</td>\n",
       "      <td>1020</td>\n",
       "      <td>1076</td>\n",
       "      <td>2.0</td>\n",
       "      <td>0</td>\n",
       "      <td>0</td>\n",
       "      <td>3</td>\n",
       "      <td>7</td>\n",
       "      <td>1020</td>\n",
       "      <td>0</td>\n",
       "      <td>2008</td>\n",
       "      <td>0</td>\n",
       "      <td>98144</td>\n",
       "      <td>47.5941</td>\n",
       "      <td>-122.299</td>\n",
       "      <td>1020</td>\n",
       "      <td>1357</td>\n",
       "    </tr>\n",
       "  </tbody>\n",
       "</table>\n",
       "</div>"
      ],
      "text/plain": [
       "               id             date     price  bedrooms  bathrooms  \\\n",
       "21608   263000018  20140521T000000  360000.0         3       2.50   \n",
       "21609  6600060120  20150223T000000  400000.0         4       2.50   \n",
       "21610  1523300141  20140623T000000  402101.0         2       0.75   \n",
       "21611   291310100  20150116T000000  400000.0         3       2.50   \n",
       "21612  1523300157  20141015T000000  325000.0         2       0.75   \n",
       "\n",
       "       sqft_living  sqft_lot  floors  waterfront  view  condition  grade  \\\n",
       "21608         1530      1131     3.0           0     0          3      8   \n",
       "21609         2310      5813     2.0           0     0          3      8   \n",
       "21610         1020      1350     2.0           0     0          3      7   \n",
       "21611         1600      2388     2.0           0     0          3      8   \n",
       "21612         1020      1076     2.0           0     0          3      7   \n",
       "\n",
       "       sqft_above  sqft_basement  yr_built  yr_renovated  zipcode      lat  \\\n",
       "21608        1530              0      2009             0    98103  47.6993   \n",
       "21609        2310              0      2014             0    98146  47.5107   \n",
       "21610        1020              0      2009             0    98144  47.5944   \n",
       "21611        1600              0      2004             0    98027  47.5345   \n",
       "21612        1020              0      2008             0    98144  47.5941   \n",
       "\n",
       "          long  sqft_living15  sqft_lot15  \n",
       "21608 -122.346           1530        1509  \n",
       "21609 -122.362           1830        7200  \n",
       "21610 -122.299           1020        2007  \n",
       "21611 -122.069           1410        1287  \n",
       "21612 -122.299           1020        1357  "
      ]
     },
     "execution_count": 52,
     "metadata": {},
     "output_type": "execute_result"
    }
   ],
   "source": [
    "df.tail()"
   ]
  },
  {
   "cell_type": "code",
   "execution_count": 54,
   "id": "e4df8d75-ed36-45b3-9fe9-6f2f1fc2cfcd",
   "metadata": {},
   "outputs": [
    {
     "data": {
      "text/plain": [
       "Index(['id', 'date', 'price', 'bedrooms', 'bathrooms', 'sqft_living',\n",
       "       'sqft_lot', 'floors', 'waterfront', 'view', 'condition', 'grade',\n",
       "       'sqft_above', 'sqft_basement', 'yr_built', 'yr_renovated', 'zipcode',\n",
       "       'lat', 'long', 'sqft_living15', 'sqft_lot15'],\n",
       "      dtype='object')"
      ]
     },
     "execution_count": 54,
     "metadata": {},
     "output_type": "execute_result"
    }
   ],
   "source": [
    "df.columns"
   ]
  },
  {
   "cell_type": "code",
   "execution_count": 56,
   "id": "09ad28f1-e87f-4c82-821f-bbbadbc0dda2",
   "metadata": {},
   "outputs": [
    {
     "data": {
      "text/plain": [
       "(21613, 21)"
      ]
     },
     "execution_count": 56,
     "metadata": {},
     "output_type": "execute_result"
    }
   ],
   "source": [
    "df.shape"
   ]
  },
  {
   "cell_type": "code",
   "execution_count": 58,
   "id": "4518ba99-d17b-4160-a036-572f9479962c",
   "metadata": {},
   "outputs": [
    {
     "data": {
      "text/plain": [
       "id                 int64\n",
       "date              object\n",
       "price            float64\n",
       "bedrooms           int64\n",
       "bathrooms        float64\n",
       "sqft_living        int64\n",
       "sqft_lot           int64\n",
       "floors           float64\n",
       "waterfront         int64\n",
       "view               int64\n",
       "condition          int64\n",
       "grade              int64\n",
       "sqft_above         int64\n",
       "sqft_basement      int64\n",
       "yr_built           int64\n",
       "yr_renovated       int64\n",
       "zipcode            int64\n",
       "lat              float64\n",
       "long             float64\n",
       "sqft_living15      int64\n",
       "sqft_lot15         int64\n",
       "dtype: object"
      ]
     },
     "execution_count": 58,
     "metadata": {},
     "output_type": "execute_result"
    }
   ],
   "source": [
    "df.dtypes"
   ]
  },
  {
   "cell_type": "code",
   "execution_count": 60,
   "id": "5da57e18-0b8c-4266-8232-58e281b21fac",
   "metadata": {},
   "outputs": [
    {
     "data": {
      "text/html": [
       "<div>\n",
       "<style scoped>\n",
       "    .dataframe tbody tr th:only-of-type {\n",
       "        vertical-align: middle;\n",
       "    }\n",
       "\n",
       "    .dataframe tbody tr th {\n",
       "        vertical-align: top;\n",
       "    }\n",
       "\n",
       "    .dataframe thead th {\n",
       "        text-align: right;\n",
       "    }\n",
       "</style>\n",
       "<table border=\"1\" class=\"dataframe\">\n",
       "  <thead>\n",
       "    <tr style=\"text-align: right;\">\n",
       "      <th></th>\n",
       "      <th>id</th>\n",
       "      <th>price</th>\n",
       "      <th>bedrooms</th>\n",
       "      <th>bathrooms</th>\n",
       "      <th>sqft_living</th>\n",
       "      <th>sqft_lot</th>\n",
       "      <th>floors</th>\n",
       "      <th>waterfront</th>\n",
       "      <th>view</th>\n",
       "      <th>condition</th>\n",
       "      <th>grade</th>\n",
       "      <th>sqft_above</th>\n",
       "      <th>sqft_basement</th>\n",
       "      <th>yr_built</th>\n",
       "      <th>yr_renovated</th>\n",
       "      <th>zipcode</th>\n",
       "      <th>lat</th>\n",
       "      <th>long</th>\n",
       "      <th>sqft_living15</th>\n",
       "      <th>sqft_lot15</th>\n",
       "    </tr>\n",
       "  </thead>\n",
       "  <tbody>\n",
       "    <tr>\n",
       "      <th>count</th>\n",
       "      <td>2.161300e+04</td>\n",
       "      <td>2.161300e+04</td>\n",
       "      <td>21613.000000</td>\n",
       "      <td>21613.000000</td>\n",
       "      <td>21613.000000</td>\n",
       "      <td>2.161300e+04</td>\n",
       "      <td>21613.000000</td>\n",
       "      <td>21613.000000</td>\n",
       "      <td>21613.000000</td>\n",
       "      <td>21613.000000</td>\n",
       "      <td>21613.000000</td>\n",
       "      <td>21613.000000</td>\n",
       "      <td>21613.000000</td>\n",
       "      <td>21613.000000</td>\n",
       "      <td>21613.000000</td>\n",
       "      <td>21613.000000</td>\n",
       "      <td>21613.000000</td>\n",
       "      <td>21613.000000</td>\n",
       "      <td>21613.000000</td>\n",
       "      <td>21613.000000</td>\n",
       "    </tr>\n",
       "    <tr>\n",
       "      <th>mean</th>\n",
       "      <td>4.580302e+09</td>\n",
       "      <td>5.400881e+05</td>\n",
       "      <td>3.370842</td>\n",
       "      <td>2.114757</td>\n",
       "      <td>2079.899736</td>\n",
       "      <td>1.510697e+04</td>\n",
       "      <td>1.494309</td>\n",
       "      <td>0.007542</td>\n",
       "      <td>0.234303</td>\n",
       "      <td>3.409430</td>\n",
       "      <td>7.656873</td>\n",
       "      <td>1788.390691</td>\n",
       "      <td>291.509045</td>\n",
       "      <td>1971.005136</td>\n",
       "      <td>84.402258</td>\n",
       "      <td>98077.939805</td>\n",
       "      <td>47.560053</td>\n",
       "      <td>-122.213896</td>\n",
       "      <td>1986.552492</td>\n",
       "      <td>12768.455652</td>\n",
       "    </tr>\n",
       "    <tr>\n",
       "      <th>std</th>\n",
       "      <td>2.876566e+09</td>\n",
       "      <td>3.671272e+05</td>\n",
       "      <td>0.930062</td>\n",
       "      <td>0.770163</td>\n",
       "      <td>918.440897</td>\n",
       "      <td>4.142051e+04</td>\n",
       "      <td>0.539989</td>\n",
       "      <td>0.086517</td>\n",
       "      <td>0.766318</td>\n",
       "      <td>0.650743</td>\n",
       "      <td>1.175459</td>\n",
       "      <td>828.090978</td>\n",
       "      <td>442.575043</td>\n",
       "      <td>29.373411</td>\n",
       "      <td>401.679240</td>\n",
       "      <td>53.505026</td>\n",
       "      <td>0.138564</td>\n",
       "      <td>0.140828</td>\n",
       "      <td>685.391304</td>\n",
       "      <td>27304.179631</td>\n",
       "    </tr>\n",
       "    <tr>\n",
       "      <th>min</th>\n",
       "      <td>1.000102e+06</td>\n",
       "      <td>7.500000e+04</td>\n",
       "      <td>0.000000</td>\n",
       "      <td>0.000000</td>\n",
       "      <td>290.000000</td>\n",
       "      <td>5.200000e+02</td>\n",
       "      <td>1.000000</td>\n",
       "      <td>0.000000</td>\n",
       "      <td>0.000000</td>\n",
       "      <td>1.000000</td>\n",
       "      <td>1.000000</td>\n",
       "      <td>290.000000</td>\n",
       "      <td>0.000000</td>\n",
       "      <td>1900.000000</td>\n",
       "      <td>0.000000</td>\n",
       "      <td>98001.000000</td>\n",
       "      <td>47.155900</td>\n",
       "      <td>-122.519000</td>\n",
       "      <td>399.000000</td>\n",
       "      <td>651.000000</td>\n",
       "    </tr>\n",
       "    <tr>\n",
       "      <th>25%</th>\n",
       "      <td>2.123049e+09</td>\n",
       "      <td>3.219500e+05</td>\n",
       "      <td>3.000000</td>\n",
       "      <td>1.750000</td>\n",
       "      <td>1427.000000</td>\n",
       "      <td>5.040000e+03</td>\n",
       "      <td>1.000000</td>\n",
       "      <td>0.000000</td>\n",
       "      <td>0.000000</td>\n",
       "      <td>3.000000</td>\n",
       "      <td>7.000000</td>\n",
       "      <td>1190.000000</td>\n",
       "      <td>0.000000</td>\n",
       "      <td>1951.000000</td>\n",
       "      <td>0.000000</td>\n",
       "      <td>98033.000000</td>\n",
       "      <td>47.471000</td>\n",
       "      <td>-122.328000</td>\n",
       "      <td>1490.000000</td>\n",
       "      <td>5100.000000</td>\n",
       "    </tr>\n",
       "    <tr>\n",
       "      <th>50%</th>\n",
       "      <td>3.904930e+09</td>\n",
       "      <td>4.500000e+05</td>\n",
       "      <td>3.000000</td>\n",
       "      <td>2.250000</td>\n",
       "      <td>1910.000000</td>\n",
       "      <td>7.618000e+03</td>\n",
       "      <td>1.500000</td>\n",
       "      <td>0.000000</td>\n",
       "      <td>0.000000</td>\n",
       "      <td>3.000000</td>\n",
       "      <td>7.000000</td>\n",
       "      <td>1560.000000</td>\n",
       "      <td>0.000000</td>\n",
       "      <td>1975.000000</td>\n",
       "      <td>0.000000</td>\n",
       "      <td>98065.000000</td>\n",
       "      <td>47.571800</td>\n",
       "      <td>-122.230000</td>\n",
       "      <td>1840.000000</td>\n",
       "      <td>7620.000000</td>\n",
       "    </tr>\n",
       "    <tr>\n",
       "      <th>75%</th>\n",
       "      <td>7.308900e+09</td>\n",
       "      <td>6.450000e+05</td>\n",
       "      <td>4.000000</td>\n",
       "      <td>2.500000</td>\n",
       "      <td>2550.000000</td>\n",
       "      <td>1.068800e+04</td>\n",
       "      <td>2.000000</td>\n",
       "      <td>0.000000</td>\n",
       "      <td>0.000000</td>\n",
       "      <td>4.000000</td>\n",
       "      <td>8.000000</td>\n",
       "      <td>2210.000000</td>\n",
       "      <td>560.000000</td>\n",
       "      <td>1997.000000</td>\n",
       "      <td>0.000000</td>\n",
       "      <td>98118.000000</td>\n",
       "      <td>47.678000</td>\n",
       "      <td>-122.125000</td>\n",
       "      <td>2360.000000</td>\n",
       "      <td>10083.000000</td>\n",
       "    </tr>\n",
       "    <tr>\n",
       "      <th>max</th>\n",
       "      <td>9.900000e+09</td>\n",
       "      <td>7.700000e+06</td>\n",
       "      <td>33.000000</td>\n",
       "      <td>8.000000</td>\n",
       "      <td>13540.000000</td>\n",
       "      <td>1.651359e+06</td>\n",
       "      <td>3.500000</td>\n",
       "      <td>1.000000</td>\n",
       "      <td>4.000000</td>\n",
       "      <td>5.000000</td>\n",
       "      <td>13.000000</td>\n",
       "      <td>9410.000000</td>\n",
       "      <td>4820.000000</td>\n",
       "      <td>2015.000000</td>\n",
       "      <td>2015.000000</td>\n",
       "      <td>98199.000000</td>\n",
       "      <td>47.777600</td>\n",
       "      <td>-121.315000</td>\n",
       "      <td>6210.000000</td>\n",
       "      <td>871200.000000</td>\n",
       "    </tr>\n",
       "  </tbody>\n",
       "</table>\n",
       "</div>"
      ],
      "text/plain": [
       "                 id         price      bedrooms     bathrooms   sqft_living  \\\n",
       "count  2.161300e+04  2.161300e+04  21613.000000  21613.000000  21613.000000   \n",
       "mean   4.580302e+09  5.400881e+05      3.370842      2.114757   2079.899736   \n",
       "std    2.876566e+09  3.671272e+05      0.930062      0.770163    918.440897   \n",
       "min    1.000102e+06  7.500000e+04      0.000000      0.000000    290.000000   \n",
       "25%    2.123049e+09  3.219500e+05      3.000000      1.750000   1427.000000   \n",
       "50%    3.904930e+09  4.500000e+05      3.000000      2.250000   1910.000000   \n",
       "75%    7.308900e+09  6.450000e+05      4.000000      2.500000   2550.000000   \n",
       "max    9.900000e+09  7.700000e+06     33.000000      8.000000  13540.000000   \n",
       "\n",
       "           sqft_lot        floors    waterfront          view     condition  \\\n",
       "count  2.161300e+04  21613.000000  21613.000000  21613.000000  21613.000000   \n",
       "mean   1.510697e+04      1.494309      0.007542      0.234303      3.409430   \n",
       "std    4.142051e+04      0.539989      0.086517      0.766318      0.650743   \n",
       "min    5.200000e+02      1.000000      0.000000      0.000000      1.000000   \n",
       "25%    5.040000e+03      1.000000      0.000000      0.000000      3.000000   \n",
       "50%    7.618000e+03      1.500000      0.000000      0.000000      3.000000   \n",
       "75%    1.068800e+04      2.000000      0.000000      0.000000      4.000000   \n",
       "max    1.651359e+06      3.500000      1.000000      4.000000      5.000000   \n",
       "\n",
       "              grade    sqft_above  sqft_basement      yr_built  yr_renovated  \\\n",
       "count  21613.000000  21613.000000   21613.000000  21613.000000  21613.000000   \n",
       "mean       7.656873   1788.390691     291.509045   1971.005136     84.402258   \n",
       "std        1.175459    828.090978     442.575043     29.373411    401.679240   \n",
       "min        1.000000    290.000000       0.000000   1900.000000      0.000000   \n",
       "25%        7.000000   1190.000000       0.000000   1951.000000      0.000000   \n",
       "50%        7.000000   1560.000000       0.000000   1975.000000      0.000000   \n",
       "75%        8.000000   2210.000000     560.000000   1997.000000      0.000000   \n",
       "max       13.000000   9410.000000    4820.000000   2015.000000   2015.000000   \n",
       "\n",
       "            zipcode           lat          long  sqft_living15     sqft_lot15  \n",
       "count  21613.000000  21613.000000  21613.000000   21613.000000   21613.000000  \n",
       "mean   98077.939805     47.560053   -122.213896    1986.552492   12768.455652  \n",
       "std       53.505026      0.138564      0.140828     685.391304   27304.179631  \n",
       "min    98001.000000     47.155900   -122.519000     399.000000     651.000000  \n",
       "25%    98033.000000     47.471000   -122.328000    1490.000000    5100.000000  \n",
       "50%    98065.000000     47.571800   -122.230000    1840.000000    7620.000000  \n",
       "75%    98118.000000     47.678000   -122.125000    2360.000000   10083.000000  \n",
       "max    98199.000000     47.777600   -121.315000    6210.000000  871200.000000  "
      ]
     },
     "execution_count": 60,
     "metadata": {},
     "output_type": "execute_result"
    }
   ],
   "source": [
    "pd.set_option('display.max_columns', None)\n",
    "df.describe()"
   ]
  },
  {
   "cell_type": "code",
   "execution_count": 62,
   "id": "622f3b33-3716-4883-9208-e3abc6030de3",
   "metadata": {},
   "outputs": [],
   "source": [
    "# we do not need descriptive statistics on several columns: id, zipcode, latitude, longitude "
   ]
  },
  {
   "cell_type": "code",
   "execution_count": 64,
   "id": "ebdef061-8028-4404-ac73-0f3f59626d32",
   "metadata": {},
   "outputs": [],
   "source": [
    "# renaming columns lat and long for clarity:\n",
    "df.rename(columns = {'lat' : 'latitude'}, inplace = True)\n",
    "df.rename(columns = {'long' : 'longitude'}, inplace = True)"
   ]
  },
  {
   "cell_type": "code",
   "execution_count": 66,
   "id": "40f6052c-1c05-428a-ab81-47abefd3c0a3",
   "metadata": {},
   "outputs": [
    {
     "data": {
      "text/plain": [
       "Index(['id', 'date', 'price', 'bedrooms', 'bathrooms', 'sqft_living',\n",
       "       'sqft_lot', 'floors', 'waterfront', 'view', 'condition', 'grade',\n",
       "       'sqft_above', 'sqft_basement', 'yr_built', 'yr_renovated', 'zipcode',\n",
       "       'latitude', 'longitude', 'sqft_living15', 'sqft_lot15'],\n",
       "      dtype='object')"
      ]
     },
     "execution_count": 66,
     "metadata": {},
     "output_type": "execute_result"
    }
   ],
   "source": [
    "# double checking:\n",
    "df.columns"
   ]
  },
  {
   "cell_type": "code",
   "execution_count": 68,
   "id": "5bf5f790-7dc3-4223-903e-8f1f7a9a3a91",
   "metadata": {},
   "outputs": [
    {
     "data": {
      "text/html": [
       "<div>\n",
       "<style scoped>\n",
       "    .dataframe tbody tr th:only-of-type {\n",
       "        vertical-align: middle;\n",
       "    }\n",
       "\n",
       "    .dataframe tbody tr th {\n",
       "        vertical-align: top;\n",
       "    }\n",
       "\n",
       "    .dataframe thead th {\n",
       "        text-align: right;\n",
       "    }\n",
       "</style>\n",
       "<table border=\"1\" class=\"dataframe\">\n",
       "  <thead>\n",
       "    <tr style=\"text-align: right;\">\n",
       "      <th></th>\n",
       "      <th>sqft_living</th>\n",
       "      <th>sqft_living15</th>\n",
       "    </tr>\n",
       "  </thead>\n",
       "  <tbody>\n",
       "    <tr>\n",
       "      <th>count</th>\n",
       "      <td>21613.000000</td>\n",
       "      <td>21613.000000</td>\n",
       "    </tr>\n",
       "    <tr>\n",
       "      <th>mean</th>\n",
       "      <td>2079.899736</td>\n",
       "      <td>1986.552492</td>\n",
       "    </tr>\n",
       "    <tr>\n",
       "      <th>std</th>\n",
       "      <td>918.440897</td>\n",
       "      <td>685.391304</td>\n",
       "    </tr>\n",
       "    <tr>\n",
       "      <th>min</th>\n",
       "      <td>290.000000</td>\n",
       "      <td>399.000000</td>\n",
       "    </tr>\n",
       "    <tr>\n",
       "      <th>25%</th>\n",
       "      <td>1427.000000</td>\n",
       "      <td>1490.000000</td>\n",
       "    </tr>\n",
       "    <tr>\n",
       "      <th>50%</th>\n",
       "      <td>1910.000000</td>\n",
       "      <td>1840.000000</td>\n",
       "    </tr>\n",
       "    <tr>\n",
       "      <th>75%</th>\n",
       "      <td>2550.000000</td>\n",
       "      <td>2360.000000</td>\n",
       "    </tr>\n",
       "    <tr>\n",
       "      <th>max</th>\n",
       "      <td>13540.000000</td>\n",
       "      <td>6210.000000</td>\n",
       "    </tr>\n",
       "  </tbody>\n",
       "</table>\n",
       "</div>"
      ],
      "text/plain": [
       "        sqft_living  sqft_living15\n",
       "count  21613.000000   21613.000000\n",
       "mean    2079.899736    1986.552492\n",
       "std      918.440897     685.391304\n",
       "min      290.000000     399.000000\n",
       "25%     1427.000000    1490.000000\n",
       "50%     1910.000000    1840.000000\n",
       "75%     2550.000000    2360.000000\n",
       "max    13540.000000    6210.000000"
      ]
     },
     "execution_count": 68,
     "metadata": {},
     "output_type": "execute_result"
    }
   ],
   "source": [
    "# need to see if sqft_living and sqft_living15 are duplicate columns:\n",
    "\n",
    "df[['sqft_living' , 'sqft_living15']].describe()"
   ]
  },
  {
   "cell_type": "code",
   "execution_count": 70,
   "id": "3a9e8f9f-b0d9-40b2-9765-c162e28bd085",
   "metadata": {},
   "outputs": [
    {
     "data": {
      "text/html": [
       "<div>\n",
       "<style scoped>\n",
       "    .dataframe tbody tr th:only-of-type {\n",
       "        vertical-align: middle;\n",
       "    }\n",
       "\n",
       "    .dataframe tbody tr th {\n",
       "        vertical-align: top;\n",
       "    }\n",
       "\n",
       "    .dataframe thead th {\n",
       "        text-align: right;\n",
       "    }\n",
       "</style>\n",
       "<table border=\"1\" class=\"dataframe\">\n",
       "  <thead>\n",
       "    <tr style=\"text-align: right;\">\n",
       "      <th></th>\n",
       "      <th>sqft_lot</th>\n",
       "      <th>sqft_lot15</th>\n",
       "    </tr>\n",
       "  </thead>\n",
       "  <tbody>\n",
       "    <tr>\n",
       "      <th>count</th>\n",
       "      <td>2.161300e+04</td>\n",
       "      <td>21613.000000</td>\n",
       "    </tr>\n",
       "    <tr>\n",
       "      <th>mean</th>\n",
       "      <td>1.510697e+04</td>\n",
       "      <td>12768.455652</td>\n",
       "    </tr>\n",
       "    <tr>\n",
       "      <th>std</th>\n",
       "      <td>4.142051e+04</td>\n",
       "      <td>27304.179631</td>\n",
       "    </tr>\n",
       "    <tr>\n",
       "      <th>min</th>\n",
       "      <td>5.200000e+02</td>\n",
       "      <td>651.000000</td>\n",
       "    </tr>\n",
       "    <tr>\n",
       "      <th>25%</th>\n",
       "      <td>5.040000e+03</td>\n",
       "      <td>5100.000000</td>\n",
       "    </tr>\n",
       "    <tr>\n",
       "      <th>50%</th>\n",
       "      <td>7.618000e+03</td>\n",
       "      <td>7620.000000</td>\n",
       "    </tr>\n",
       "    <tr>\n",
       "      <th>75%</th>\n",
       "      <td>1.068800e+04</td>\n",
       "      <td>10083.000000</td>\n",
       "    </tr>\n",
       "    <tr>\n",
       "      <th>max</th>\n",
       "      <td>1.651359e+06</td>\n",
       "      <td>871200.000000</td>\n",
       "    </tr>\n",
       "  </tbody>\n",
       "</table>\n",
       "</div>"
      ],
      "text/plain": [
       "           sqft_lot     sqft_lot15\n",
       "count  2.161300e+04   21613.000000\n",
       "mean   1.510697e+04   12768.455652\n",
       "std    4.142051e+04   27304.179631\n",
       "min    5.200000e+02     651.000000\n",
       "25%    5.040000e+03    5100.000000\n",
       "50%    7.618000e+03    7620.000000\n",
       "75%    1.068800e+04   10083.000000\n",
       "max    1.651359e+06  871200.000000"
      ]
     },
     "execution_count": 70,
     "metadata": {},
     "output_type": "execute_result"
    }
   ],
   "source": [
    "## as these columns are not the same, we will need to find out what they are, and rename one or both for clarity...\n",
    "## repeat same check with sqft_lot and sqft_lot15\n",
    "\n",
    "df[['sqft_lot' , 'sqft_lot15']].describe()"
   ]
  },
  {
   "cell_type": "code",
   "execution_count": 72,
   "id": "560dd9aa-bc6e-4122-bb35-2ebdacb02cc7",
   "metadata": {},
   "outputs": [],
   "source": [
    "## again, these are not duplicate columns, so we will need to find out what they represent, and rename them for clarity"
   ]
  },
  {
   "cell_type": "code",
   "execution_count": 74,
   "id": "793ac7d7-85c8-4478-bce9-f98c7e3900a9",
   "metadata": {},
   "outputs": [],
   "source": [
    "## storing id and zipcode as strings:\n",
    "\n",
    "df['zipcode'] = df['zipcode'].astype('str')\n",
    "df['id'] = df['id'].astype('str')"
   ]
  },
  {
   "cell_type": "code",
   "execution_count": 76,
   "id": "019322ea-8893-4e0f-94b9-84131739c80a",
   "metadata": {},
   "outputs": [
    {
     "data": {
      "text/plain": [
       "id                object\n",
       "date              object\n",
       "price            float64\n",
       "bedrooms           int64\n",
       "bathrooms        float64\n",
       "sqft_living        int64\n",
       "sqft_lot           int64\n",
       "floors           float64\n",
       "waterfront         int64\n",
       "view               int64\n",
       "condition          int64\n",
       "grade              int64\n",
       "sqft_above         int64\n",
       "sqft_basement      int64\n",
       "yr_built           int64\n",
       "yr_renovated       int64\n",
       "zipcode           object\n",
       "latitude         float64\n",
       "longitude        float64\n",
       "sqft_living15      int64\n",
       "sqft_lot15         int64\n",
       "dtype: object"
      ]
     },
     "execution_count": 76,
     "metadata": {},
     "output_type": "execute_result"
    }
   ],
   "source": [
    "# double check data types for confirmation of reassignment:\n",
    "\n",
    "df.dtypes"
   ]
  },
  {
   "cell_type": "code",
   "execution_count": 78,
   "id": "120ccd7f-c541-4208-9b7e-5eb55919c2d9",
   "metadata": {},
   "outputs": [
    {
     "data": {
      "text/plain": [
       "0     20141013T000000\n",
       "1     20141209T000000\n",
       "2     20150225T000000\n",
       "3     20141209T000000\n",
       "4     20150218T000000\n",
       "           ...       \n",
       "95    20140908T000000\n",
       "96    20150330T000000\n",
       "97    20140912T000000\n",
       "98    20140711T000000\n",
       "99    20140516T000000\n",
       "Name: date, Length: 100, dtype: object"
      ]
     },
     "execution_count": 78,
     "metadata": {},
     "output_type": "execute_result"
    }
   ],
   "source": [
    "## investigating date column, possible need for reformatting for clarity:\n",
    "\n",
    "df['date'].head(100)"
   ]
  },
  {
   "cell_type": "code",
   "execution_count": 80,
   "id": "06474c2a-a72a-4c60-b370-c1ea0e99fdca",
   "metadata": {},
   "outputs": [
    {
     "data": {
      "text/plain": [
       "21513    20140513T000000\n",
       "21514    20150227T000000\n",
       "21515    20141215T000000\n",
       "21516    20141001T000000\n",
       "21517    20140626T000000\n",
       "              ...       \n",
       "21608    20140521T000000\n",
       "21609    20150223T000000\n",
       "21610    20140623T000000\n",
       "21611    20150116T000000\n",
       "21612    20141015T000000\n",
       "Name: date, Length: 100, dtype: object"
      ]
     },
     "execution_count": 80,
     "metadata": {},
     "output_type": "execute_result"
    }
   ],
   "source": [
    "df['date'].tail(100)"
   ]
  },
  {
   "cell_type": "code",
   "execution_count": 82,
   "id": "be8206d0-3c91-4b61-bbab-9089a8e92050",
   "metadata": {},
   "outputs": [],
   "source": [
    "# it appears that the date is followed by T000000, a possible explanation is that this would indicate time\n",
    "# if time is always T000000, it could make sense to remove this from the string to make the data more legible/usable. \n",
    "# will start by reformatting this as a string so we can extract date (month day and year)"
   ]
  },
  {
   "cell_type": "code",
   "execution_count": 84,
   "id": "bdef7a01-6119-4aa0-95e0-4425dbe905bf",
   "metadata": {},
   "outputs": [],
   "source": [
    "df['date'] = df['date'].astype('str')"
   ]
  },
  {
   "cell_type": "code",
   "execution_count": 86,
   "id": "5eba90a3-9dd7-4b61-b6a6-993fd77cc1a0",
   "metadata": {},
   "outputs": [],
   "source": [
    "# begin to derive new column for date"
   ]
  },
  {
   "cell_type": "code",
   "execution_count": null,
   "id": "62729c83-2383-476d-a4d8-ec480745e592",
   "metadata": {},
   "outputs": [],
   "source": []
  },
  {
   "cell_type": "code",
   "execution_count": 89,
   "id": "fd9a20f3-6064-4746-9206-b574baf8b6fb",
   "metadata": {},
   "outputs": [
    {
     "name": "stdout",
     "output_type": "stream",
     "text": [
      "               id             date      price  bedrooms  bathrooms  \\\n",
      "93     6021501535  20140725T000000   430000.0         3       1.50   \n",
      "94     6021501535  20141223T000000   700000.0         3       1.50   \n",
      "313    4139480200  20140618T000000  1384000.0         4       3.25   \n",
      "314    4139480200  20141209T000000  1400000.0         4       3.25   \n",
      "324    7520000520  20140905T000000   232000.0         2       1.00   \n",
      "...           ...              ...        ...       ...        ...   \n",
      "20670  8564860270  20150330T000000   502000.0         4       2.50   \n",
      "20779  6300000226  20140626T000000   240000.0         4       1.00   \n",
      "20780  6300000226  20150504T000000   380000.0         4       1.00   \n",
      "21580  7853420110  20141003T000000   594866.0         3       3.00   \n",
      "21581  7853420110  20150504T000000   625000.0         3       3.00   \n",
      "\n",
      "       sqft_living  sqft_lot  floors  waterfront  view  condition  grade  \\\n",
      "93            1580      5000     1.0           0     0          3      8   \n",
      "94            1580      5000     1.0           0     0          3      8   \n",
      "313           4290     12103     1.0           0     3          3     11   \n",
      "314           4290     12103     1.0           0     3          3     11   \n",
      "324           1240     12092     1.0           0     0          3      6   \n",
      "...            ...       ...     ...         ...   ...        ...    ...   \n",
      "20670         2680      5539     2.0           0     0          3      8   \n",
      "20779         1200      2171     1.5           0     0          3      7   \n",
      "20780         1200      2171     1.5           0     0          3      7   \n",
      "21580         2780      6000     2.0           0     0          3      9   \n",
      "21581         2780      6000     2.0           0     0          3      9   \n",
      "\n",
      "       sqft_above  sqft_basement  yr_built  yr_renovated zipcode  latitude  \\\n",
      "93           1290            290      1939             0   98117   47.6870   \n",
      "94           1290            290      1939             0   98117   47.6870   \n",
      "313          2690           1600      1997             0   98006   47.5503   \n",
      "314          2690           1600      1997             0   98006   47.5503   \n",
      "324           960            280      1922          1984   98146   47.4957   \n",
      "...           ...            ...       ...           ...     ...       ...   \n",
      "20670        2680              0      2013             0   98045   47.4759   \n",
      "20779        1200              0      1933             0   98133   47.7076   \n",
      "20780        1200              0      1933             0   98133   47.7076   \n",
      "21580        2780              0      2013             0   98065   47.5184   \n",
      "21581        2780              0      2013             0   98065   47.5184   \n",
      "\n",
      "       longitude  sqft_living15  sqft_lot15  \n",
      "93      -122.386           1570        4500  \n",
      "94      -122.386           1570        4500  \n",
      "313     -122.102           3860       11244  \n",
      "314     -122.102           3860       11244  \n",
      "324     -122.352           1820        7460  \n",
      "...          ...            ...         ...  \n",
      "20670   -121.734           2680        5992  \n",
      "20779   -122.342           1130        1598  \n",
      "20780   -122.342           1130        1598  \n",
      "21580   -121.886           2850        6000  \n",
      "21581   -121.886           2850        6000  \n",
      "\n",
      "[353 rows x 21 columns]\n"
     ]
    }
   ],
   "source": [
    "# check for duplicates in home id\n",
    "\n",
    "duplicate_id = df[df['id'].duplicated(keep = False)]\n",
    "print(duplicate_id)\n",
    "\n",
    "# chose keep = false in order to see the first and last instance of a houses sale by comparing dates."
   ]
  },
  {
   "cell_type": "code",
   "execution_count": 91,
   "id": "256805fb-4e94-486e-8bb3-ac2f88835120",
   "metadata": {},
   "outputs": [],
   "source": [
    "# it appears as if there are 177 duplicate home id entries\n",
    "# these will likley need to be removed, unless it can be determined that the house was sold more than once in a calendar year"
   ]
  },
  {
   "cell_type": "code",
   "execution_count": 93,
   "id": "f065f5e7-64d9-492f-8d57-632fc8c10a41",
   "metadata": {},
   "outputs": [
    {
     "data": {
      "text/html": [
       "<div>\n",
       "<style scoped>\n",
       "    .dataframe tbody tr th:only-of-type {\n",
       "        vertical-align: middle;\n",
       "    }\n",
       "\n",
       "    .dataframe tbody tr th {\n",
       "        vertical-align: top;\n",
       "    }\n",
       "\n",
       "    .dataframe thead th {\n",
       "        text-align: right;\n",
       "    }\n",
       "</style>\n",
       "<table border=\"1\" class=\"dataframe\">\n",
       "  <thead>\n",
       "    <tr style=\"text-align: right;\">\n",
       "      <th></th>\n",
       "      <th>id</th>\n",
       "      <th>date</th>\n",
       "      <th>price</th>\n",
       "      <th>bedrooms</th>\n",
       "      <th>bathrooms</th>\n",
       "      <th>sqft_living</th>\n",
       "      <th>sqft_lot</th>\n",
       "      <th>floors</th>\n",
       "      <th>waterfront</th>\n",
       "      <th>view</th>\n",
       "      <th>condition</th>\n",
       "      <th>grade</th>\n",
       "      <th>sqft_above</th>\n",
       "      <th>sqft_basement</th>\n",
       "      <th>yr_built</th>\n",
       "      <th>yr_renovated</th>\n",
       "      <th>zipcode</th>\n",
       "      <th>latitude</th>\n",
       "      <th>longitude</th>\n",
       "      <th>sqft_living15</th>\n",
       "      <th>sqft_lot15</th>\n",
       "    </tr>\n",
       "  </thead>\n",
       "  <tbody>\n",
       "    <tr>\n",
       "      <th>93</th>\n",
       "      <td>6021501535</td>\n",
       "      <td>20140725T000000</td>\n",
       "      <td>430000.0</td>\n",
       "      <td>3</td>\n",
       "      <td>1.50</td>\n",
       "      <td>1580</td>\n",
       "      <td>5000</td>\n",
       "      <td>1.0</td>\n",
       "      <td>0</td>\n",
       "      <td>0</td>\n",
       "      <td>3</td>\n",
       "      <td>8</td>\n",
       "      <td>1290</td>\n",
       "      <td>290</td>\n",
       "      <td>1939</td>\n",
       "      <td>0</td>\n",
       "      <td>98117</td>\n",
       "      <td>47.6870</td>\n",
       "      <td>-122.386</td>\n",
       "      <td>1570</td>\n",
       "      <td>4500</td>\n",
       "    </tr>\n",
       "    <tr>\n",
       "      <th>94</th>\n",
       "      <td>6021501535</td>\n",
       "      <td>20141223T000000</td>\n",
       "      <td>700000.0</td>\n",
       "      <td>3</td>\n",
       "      <td>1.50</td>\n",
       "      <td>1580</td>\n",
       "      <td>5000</td>\n",
       "      <td>1.0</td>\n",
       "      <td>0</td>\n",
       "      <td>0</td>\n",
       "      <td>3</td>\n",
       "      <td>8</td>\n",
       "      <td>1290</td>\n",
       "      <td>290</td>\n",
       "      <td>1939</td>\n",
       "      <td>0</td>\n",
       "      <td>98117</td>\n",
       "      <td>47.6870</td>\n",
       "      <td>-122.386</td>\n",
       "      <td>1570</td>\n",
       "      <td>4500</td>\n",
       "    </tr>\n",
       "    <tr>\n",
       "      <th>313</th>\n",
       "      <td>4139480200</td>\n",
       "      <td>20140618T000000</td>\n",
       "      <td>1384000.0</td>\n",
       "      <td>4</td>\n",
       "      <td>3.25</td>\n",
       "      <td>4290</td>\n",
       "      <td>12103</td>\n",
       "      <td>1.0</td>\n",
       "      <td>0</td>\n",
       "      <td>3</td>\n",
       "      <td>3</td>\n",
       "      <td>11</td>\n",
       "      <td>2690</td>\n",
       "      <td>1600</td>\n",
       "      <td>1997</td>\n",
       "      <td>0</td>\n",
       "      <td>98006</td>\n",
       "      <td>47.5503</td>\n",
       "      <td>-122.102</td>\n",
       "      <td>3860</td>\n",
       "      <td>11244</td>\n",
       "    </tr>\n",
       "    <tr>\n",
       "      <th>314</th>\n",
       "      <td>4139480200</td>\n",
       "      <td>20141209T000000</td>\n",
       "      <td>1400000.0</td>\n",
       "      <td>4</td>\n",
       "      <td>3.25</td>\n",
       "      <td>4290</td>\n",
       "      <td>12103</td>\n",
       "      <td>1.0</td>\n",
       "      <td>0</td>\n",
       "      <td>3</td>\n",
       "      <td>3</td>\n",
       "      <td>11</td>\n",
       "      <td>2690</td>\n",
       "      <td>1600</td>\n",
       "      <td>1997</td>\n",
       "      <td>0</td>\n",
       "      <td>98006</td>\n",
       "      <td>47.5503</td>\n",
       "      <td>-122.102</td>\n",
       "      <td>3860</td>\n",
       "      <td>11244</td>\n",
       "    </tr>\n",
       "    <tr>\n",
       "      <th>324</th>\n",
       "      <td>7520000520</td>\n",
       "      <td>20140905T000000</td>\n",
       "      <td>232000.0</td>\n",
       "      <td>2</td>\n",
       "      <td>1.00</td>\n",
       "      <td>1240</td>\n",
       "      <td>12092</td>\n",
       "      <td>1.0</td>\n",
       "      <td>0</td>\n",
       "      <td>0</td>\n",
       "      <td>3</td>\n",
       "      <td>6</td>\n",
       "      <td>960</td>\n",
       "      <td>280</td>\n",
       "      <td>1922</td>\n",
       "      <td>1984</td>\n",
       "      <td>98146</td>\n",
       "      <td>47.4957</td>\n",
       "      <td>-122.352</td>\n",
       "      <td>1820</td>\n",
       "      <td>7460</td>\n",
       "    </tr>\n",
       "    <tr>\n",
       "      <th>...</th>\n",
       "      <td>...</td>\n",
       "      <td>...</td>\n",
       "      <td>...</td>\n",
       "      <td>...</td>\n",
       "      <td>...</td>\n",
       "      <td>...</td>\n",
       "      <td>...</td>\n",
       "      <td>...</td>\n",
       "      <td>...</td>\n",
       "      <td>...</td>\n",
       "      <td>...</td>\n",
       "      <td>...</td>\n",
       "      <td>...</td>\n",
       "      <td>...</td>\n",
       "      <td>...</td>\n",
       "      <td>...</td>\n",
       "      <td>...</td>\n",
       "      <td>...</td>\n",
       "      <td>...</td>\n",
       "      <td>...</td>\n",
       "      <td>...</td>\n",
       "    </tr>\n",
       "    <tr>\n",
       "      <th>20670</th>\n",
       "      <td>8564860270</td>\n",
       "      <td>20150330T000000</td>\n",
       "      <td>502000.0</td>\n",
       "      <td>4</td>\n",
       "      <td>2.50</td>\n",
       "      <td>2680</td>\n",
       "      <td>5539</td>\n",
       "      <td>2.0</td>\n",
       "      <td>0</td>\n",
       "      <td>0</td>\n",
       "      <td>3</td>\n",
       "      <td>8</td>\n",
       "      <td>2680</td>\n",
       "      <td>0</td>\n",
       "      <td>2013</td>\n",
       "      <td>0</td>\n",
       "      <td>98045</td>\n",
       "      <td>47.4759</td>\n",
       "      <td>-121.734</td>\n",
       "      <td>2680</td>\n",
       "      <td>5992</td>\n",
       "    </tr>\n",
       "    <tr>\n",
       "      <th>20779</th>\n",
       "      <td>6300000226</td>\n",
       "      <td>20140626T000000</td>\n",
       "      <td>240000.0</td>\n",
       "      <td>4</td>\n",
       "      <td>1.00</td>\n",
       "      <td>1200</td>\n",
       "      <td>2171</td>\n",
       "      <td>1.5</td>\n",
       "      <td>0</td>\n",
       "      <td>0</td>\n",
       "      <td>3</td>\n",
       "      <td>7</td>\n",
       "      <td>1200</td>\n",
       "      <td>0</td>\n",
       "      <td>1933</td>\n",
       "      <td>0</td>\n",
       "      <td>98133</td>\n",
       "      <td>47.7076</td>\n",
       "      <td>-122.342</td>\n",
       "      <td>1130</td>\n",
       "      <td>1598</td>\n",
       "    </tr>\n",
       "    <tr>\n",
       "      <th>20780</th>\n",
       "      <td>6300000226</td>\n",
       "      <td>20150504T000000</td>\n",
       "      <td>380000.0</td>\n",
       "      <td>4</td>\n",
       "      <td>1.00</td>\n",
       "      <td>1200</td>\n",
       "      <td>2171</td>\n",
       "      <td>1.5</td>\n",
       "      <td>0</td>\n",
       "      <td>0</td>\n",
       "      <td>3</td>\n",
       "      <td>7</td>\n",
       "      <td>1200</td>\n",
       "      <td>0</td>\n",
       "      <td>1933</td>\n",
       "      <td>0</td>\n",
       "      <td>98133</td>\n",
       "      <td>47.7076</td>\n",
       "      <td>-122.342</td>\n",
       "      <td>1130</td>\n",
       "      <td>1598</td>\n",
       "    </tr>\n",
       "    <tr>\n",
       "      <th>21580</th>\n",
       "      <td>7853420110</td>\n",
       "      <td>20141003T000000</td>\n",
       "      <td>594866.0</td>\n",
       "      <td>3</td>\n",
       "      <td>3.00</td>\n",
       "      <td>2780</td>\n",
       "      <td>6000</td>\n",
       "      <td>2.0</td>\n",
       "      <td>0</td>\n",
       "      <td>0</td>\n",
       "      <td>3</td>\n",
       "      <td>9</td>\n",
       "      <td>2780</td>\n",
       "      <td>0</td>\n",
       "      <td>2013</td>\n",
       "      <td>0</td>\n",
       "      <td>98065</td>\n",
       "      <td>47.5184</td>\n",
       "      <td>-121.886</td>\n",
       "      <td>2850</td>\n",
       "      <td>6000</td>\n",
       "    </tr>\n",
       "    <tr>\n",
       "      <th>21581</th>\n",
       "      <td>7853420110</td>\n",
       "      <td>20150504T000000</td>\n",
       "      <td>625000.0</td>\n",
       "      <td>3</td>\n",
       "      <td>3.00</td>\n",
       "      <td>2780</td>\n",
       "      <td>6000</td>\n",
       "      <td>2.0</td>\n",
       "      <td>0</td>\n",
       "      <td>0</td>\n",
       "      <td>3</td>\n",
       "      <td>9</td>\n",
       "      <td>2780</td>\n",
       "      <td>0</td>\n",
       "      <td>2013</td>\n",
       "      <td>0</td>\n",
       "      <td>98065</td>\n",
       "      <td>47.5184</td>\n",
       "      <td>-121.886</td>\n",
       "      <td>2850</td>\n",
       "      <td>6000</td>\n",
       "    </tr>\n",
       "  </tbody>\n",
       "</table>\n",
       "<p>353 rows × 21 columns</p>\n",
       "</div>"
      ],
      "text/plain": [
       "               id             date      price  bedrooms  bathrooms  \\\n",
       "93     6021501535  20140725T000000   430000.0         3       1.50   \n",
       "94     6021501535  20141223T000000   700000.0         3       1.50   \n",
       "313    4139480200  20140618T000000  1384000.0         4       3.25   \n",
       "314    4139480200  20141209T000000  1400000.0         4       3.25   \n",
       "324    7520000520  20140905T000000   232000.0         2       1.00   \n",
       "...           ...              ...        ...       ...        ...   \n",
       "20670  8564860270  20150330T000000   502000.0         4       2.50   \n",
       "20779  6300000226  20140626T000000   240000.0         4       1.00   \n",
       "20780  6300000226  20150504T000000   380000.0         4       1.00   \n",
       "21580  7853420110  20141003T000000   594866.0         3       3.00   \n",
       "21581  7853420110  20150504T000000   625000.0         3       3.00   \n",
       "\n",
       "       sqft_living  sqft_lot  floors  waterfront  view  condition  grade  \\\n",
       "93            1580      5000     1.0           0     0          3      8   \n",
       "94            1580      5000     1.0           0     0          3      8   \n",
       "313           4290     12103     1.0           0     3          3     11   \n",
       "314           4290     12103     1.0           0     3          3     11   \n",
       "324           1240     12092     1.0           0     0          3      6   \n",
       "...            ...       ...     ...         ...   ...        ...    ...   \n",
       "20670         2680      5539     2.0           0     0          3      8   \n",
       "20779         1200      2171     1.5           0     0          3      7   \n",
       "20780         1200      2171     1.5           0     0          3      7   \n",
       "21580         2780      6000     2.0           0     0          3      9   \n",
       "21581         2780      6000     2.0           0     0          3      9   \n",
       "\n",
       "       sqft_above  sqft_basement  yr_built  yr_renovated zipcode  latitude  \\\n",
       "93           1290            290      1939             0   98117   47.6870   \n",
       "94           1290            290      1939             0   98117   47.6870   \n",
       "313          2690           1600      1997             0   98006   47.5503   \n",
       "314          2690           1600      1997             0   98006   47.5503   \n",
       "324           960            280      1922          1984   98146   47.4957   \n",
       "...           ...            ...       ...           ...     ...       ...   \n",
       "20670        2680              0      2013             0   98045   47.4759   \n",
       "20779        1200              0      1933             0   98133   47.7076   \n",
       "20780        1200              0      1933             0   98133   47.7076   \n",
       "21580        2780              0      2013             0   98065   47.5184   \n",
       "21581        2780              0      2013             0   98065   47.5184   \n",
       "\n",
       "       longitude  sqft_living15  sqft_lot15  \n",
       "93      -122.386           1570        4500  \n",
       "94      -122.386           1570        4500  \n",
       "313     -122.102           3860       11244  \n",
       "314     -122.102           3860       11244  \n",
       "324     -122.352           1820        7460  \n",
       "...          ...            ...         ...  \n",
       "20670   -121.734           2680        5992  \n",
       "20779   -122.342           1130        1598  \n",
       "20780   -122.342           1130        1598  \n",
       "21580   -121.886           2850        6000  \n",
       "21581   -121.886           2850        6000  \n",
       "\n",
       "[353 rows x 21 columns]"
      ]
     },
     "execution_count": 93,
     "metadata": {},
     "output_type": "execute_result"
    }
   ],
   "source": [
    "duplicate_id.head(353)"
   ]
  },
  {
   "cell_type": "code",
   "execution_count": 95,
   "id": "712d6a5d-959b-4ebb-8a96-d5ea4cd0b1ef",
   "metadata": {},
   "outputs": [],
   "source": [
    "# will leave duplicate ids for now to account for resale\n",
    "\n",
    "# convert date to date-time, then derive new columns for month and year"
   ]
  },
  {
   "cell_type": "code",
   "execution_count": 97,
   "id": "4e568940-14a2-4bbe-a4f2-198c88ce55e1",
   "metadata": {},
   "outputs": [],
   "source": [
    "df['date'] = pd.to_datetime(df['date'])"
   ]
  },
  {
   "cell_type": "code",
   "execution_count": 99,
   "id": "0c5e0ccd-2595-4f7a-aba0-89c4950be646",
   "metadata": {},
   "outputs": [
    {
     "data": {
      "text/plain": [
       "0       2014-10-13\n",
       "1       2014-12-09\n",
       "2       2015-02-25\n",
       "3       2014-12-09\n",
       "4       2015-02-18\n",
       "           ...    \n",
       "21608   2014-05-21\n",
       "21609   2015-02-23\n",
       "21610   2014-06-23\n",
       "21611   2015-01-16\n",
       "21612   2014-10-15\n",
       "Name: date, Length: 21613, dtype: datetime64[ns]"
      ]
     },
     "execution_count": 99,
     "metadata": {},
     "output_type": "execute_result"
    }
   ],
   "source": [
    "df['date']"
   ]
  },
  {
   "cell_type": "code",
   "execution_count": 101,
   "id": "4d1ac07d-3160-4eb4-893e-fdda5a774e50",
   "metadata": {},
   "outputs": [
    {
     "data": {
      "text/html": [
       "<div>\n",
       "<style scoped>\n",
       "    .dataframe tbody tr th:only-of-type {\n",
       "        vertical-align: middle;\n",
       "    }\n",
       "\n",
       "    .dataframe tbody tr th {\n",
       "        vertical-align: top;\n",
       "    }\n",
       "\n",
       "    .dataframe thead th {\n",
       "        text-align: right;\n",
       "    }\n",
       "</style>\n",
       "<table border=\"1\" class=\"dataframe\">\n",
       "  <thead>\n",
       "    <tr style=\"text-align: right;\">\n",
       "      <th></th>\n",
       "      <th>id</th>\n",
       "      <th>date</th>\n",
       "      <th>price</th>\n",
       "      <th>bedrooms</th>\n",
       "      <th>bathrooms</th>\n",
       "      <th>sqft_living</th>\n",
       "      <th>sqft_lot</th>\n",
       "      <th>floors</th>\n",
       "      <th>waterfront</th>\n",
       "      <th>view</th>\n",
       "      <th>condition</th>\n",
       "      <th>grade</th>\n",
       "      <th>sqft_above</th>\n",
       "      <th>sqft_basement</th>\n",
       "      <th>yr_built</th>\n",
       "      <th>yr_renovated</th>\n",
       "      <th>zipcode</th>\n",
       "      <th>latitude</th>\n",
       "      <th>longitude</th>\n",
       "      <th>sqft_living15</th>\n",
       "      <th>sqft_lot15</th>\n",
       "    </tr>\n",
       "  </thead>\n",
       "  <tbody>\n",
       "    <tr>\n",
       "      <th>0</th>\n",
       "      <td>7129300520</td>\n",
       "      <td>2014-10-13</td>\n",
       "      <td>221900.0</td>\n",
       "      <td>3</td>\n",
       "      <td>1.00</td>\n",
       "      <td>1180</td>\n",
       "      <td>5650</td>\n",
       "      <td>1.0</td>\n",
       "      <td>0</td>\n",
       "      <td>0</td>\n",
       "      <td>3</td>\n",
       "      <td>7</td>\n",
       "      <td>1180</td>\n",
       "      <td>0</td>\n",
       "      <td>1955</td>\n",
       "      <td>0</td>\n",
       "      <td>98178</td>\n",
       "      <td>47.5112</td>\n",
       "      <td>-122.257</td>\n",
       "      <td>1340</td>\n",
       "      <td>5650</td>\n",
       "    </tr>\n",
       "    <tr>\n",
       "      <th>1</th>\n",
       "      <td>6414100192</td>\n",
       "      <td>2014-12-09</td>\n",
       "      <td>538000.0</td>\n",
       "      <td>3</td>\n",
       "      <td>2.25</td>\n",
       "      <td>2570</td>\n",
       "      <td>7242</td>\n",
       "      <td>2.0</td>\n",
       "      <td>0</td>\n",
       "      <td>0</td>\n",
       "      <td>3</td>\n",
       "      <td>7</td>\n",
       "      <td>2170</td>\n",
       "      <td>400</td>\n",
       "      <td>1951</td>\n",
       "      <td>1991</td>\n",
       "      <td>98125</td>\n",
       "      <td>47.7210</td>\n",
       "      <td>-122.319</td>\n",
       "      <td>1690</td>\n",
       "      <td>7639</td>\n",
       "    </tr>\n",
       "    <tr>\n",
       "      <th>2</th>\n",
       "      <td>5631500400</td>\n",
       "      <td>2015-02-25</td>\n",
       "      <td>180000.0</td>\n",
       "      <td>2</td>\n",
       "      <td>1.00</td>\n",
       "      <td>770</td>\n",
       "      <td>10000</td>\n",
       "      <td>1.0</td>\n",
       "      <td>0</td>\n",
       "      <td>0</td>\n",
       "      <td>3</td>\n",
       "      <td>6</td>\n",
       "      <td>770</td>\n",
       "      <td>0</td>\n",
       "      <td>1933</td>\n",
       "      <td>0</td>\n",
       "      <td>98028</td>\n",
       "      <td>47.7379</td>\n",
       "      <td>-122.233</td>\n",
       "      <td>2720</td>\n",
       "      <td>8062</td>\n",
       "    </tr>\n",
       "    <tr>\n",
       "      <th>3</th>\n",
       "      <td>2487200875</td>\n",
       "      <td>2014-12-09</td>\n",
       "      <td>604000.0</td>\n",
       "      <td>4</td>\n",
       "      <td>3.00</td>\n",
       "      <td>1960</td>\n",
       "      <td>5000</td>\n",
       "      <td>1.0</td>\n",
       "      <td>0</td>\n",
       "      <td>0</td>\n",
       "      <td>5</td>\n",
       "      <td>7</td>\n",
       "      <td>1050</td>\n",
       "      <td>910</td>\n",
       "      <td>1965</td>\n",
       "      <td>0</td>\n",
       "      <td>98136</td>\n",
       "      <td>47.5208</td>\n",
       "      <td>-122.393</td>\n",
       "      <td>1360</td>\n",
       "      <td>5000</td>\n",
       "    </tr>\n",
       "    <tr>\n",
       "      <th>4</th>\n",
       "      <td>1954400510</td>\n",
       "      <td>2015-02-18</td>\n",
       "      <td>510000.0</td>\n",
       "      <td>3</td>\n",
       "      <td>2.00</td>\n",
       "      <td>1680</td>\n",
       "      <td>8080</td>\n",
       "      <td>1.0</td>\n",
       "      <td>0</td>\n",
       "      <td>0</td>\n",
       "      <td>3</td>\n",
       "      <td>8</td>\n",
       "      <td>1680</td>\n",
       "      <td>0</td>\n",
       "      <td>1987</td>\n",
       "      <td>0</td>\n",
       "      <td>98074</td>\n",
       "      <td>47.6168</td>\n",
       "      <td>-122.045</td>\n",
       "      <td>1800</td>\n",
       "      <td>7503</td>\n",
       "    </tr>\n",
       "  </tbody>\n",
       "</table>\n",
       "</div>"
      ],
      "text/plain": [
       "           id       date     price  bedrooms  bathrooms  sqft_living  \\\n",
       "0  7129300520 2014-10-13  221900.0         3       1.00         1180   \n",
       "1  6414100192 2014-12-09  538000.0         3       2.25         2570   \n",
       "2  5631500400 2015-02-25  180000.0         2       1.00          770   \n",
       "3  2487200875 2014-12-09  604000.0         4       3.00         1960   \n",
       "4  1954400510 2015-02-18  510000.0         3       2.00         1680   \n",
       "\n",
       "   sqft_lot  floors  waterfront  view  condition  grade  sqft_above  \\\n",
       "0      5650     1.0           0     0          3      7        1180   \n",
       "1      7242     2.0           0     0          3      7        2170   \n",
       "2     10000     1.0           0     0          3      6         770   \n",
       "3      5000     1.0           0     0          5      7        1050   \n",
       "4      8080     1.0           0     0          3      8        1680   \n",
       "\n",
       "   sqft_basement  yr_built  yr_renovated zipcode  latitude  longitude  \\\n",
       "0              0      1955             0   98178   47.5112   -122.257   \n",
       "1            400      1951          1991   98125   47.7210   -122.319   \n",
       "2              0      1933             0   98028   47.7379   -122.233   \n",
       "3            910      1965             0   98136   47.5208   -122.393   \n",
       "4              0      1987             0   98074   47.6168   -122.045   \n",
       "\n",
       "   sqft_living15  sqft_lot15  \n",
       "0           1340        5650  \n",
       "1           1690        7639  \n",
       "2           2720        8062  \n",
       "3           1360        5000  \n",
       "4           1800        7503  "
      ]
     },
     "execution_count": 101,
     "metadata": {},
     "output_type": "execute_result"
    }
   ],
   "source": [
    "df.head()"
   ]
  },
  {
   "cell_type": "code",
   "execution_count": 103,
   "id": "43b757c3-7fa6-4436-ab8d-a73781608f8c",
   "metadata": {},
   "outputs": [],
   "source": [
    "#derive new columns for month and year\n",
    "df['month'] = df['date'].dt.month\n",
    "df['year'] = df['date'].dt.year"
   ]
  },
  {
   "cell_type": "code",
   "execution_count": 105,
   "id": "fa234edf-58fa-4683-b74c-51e150395f59",
   "metadata": {},
   "outputs": [
    {
     "data": {
      "text/html": [
       "<div>\n",
       "<style scoped>\n",
       "    .dataframe tbody tr th:only-of-type {\n",
       "        vertical-align: middle;\n",
       "    }\n",
       "\n",
       "    .dataframe tbody tr th {\n",
       "        vertical-align: top;\n",
       "    }\n",
       "\n",
       "    .dataframe thead th {\n",
       "        text-align: right;\n",
       "    }\n",
       "</style>\n",
       "<table border=\"1\" class=\"dataframe\">\n",
       "  <thead>\n",
       "    <tr style=\"text-align: right;\">\n",
       "      <th></th>\n",
       "      <th>id</th>\n",
       "      <th>date</th>\n",
       "      <th>price</th>\n",
       "      <th>bedrooms</th>\n",
       "      <th>bathrooms</th>\n",
       "      <th>sqft_living</th>\n",
       "      <th>sqft_lot</th>\n",
       "      <th>floors</th>\n",
       "      <th>waterfront</th>\n",
       "      <th>view</th>\n",
       "      <th>condition</th>\n",
       "      <th>grade</th>\n",
       "      <th>sqft_above</th>\n",
       "      <th>sqft_basement</th>\n",
       "      <th>yr_built</th>\n",
       "      <th>yr_renovated</th>\n",
       "      <th>zipcode</th>\n",
       "      <th>latitude</th>\n",
       "      <th>longitude</th>\n",
       "      <th>sqft_living15</th>\n",
       "      <th>sqft_lot15</th>\n",
       "      <th>month</th>\n",
       "      <th>year</th>\n",
       "    </tr>\n",
       "  </thead>\n",
       "  <tbody>\n",
       "    <tr>\n",
       "      <th>0</th>\n",
       "      <td>7129300520</td>\n",
       "      <td>2014-10-13</td>\n",
       "      <td>221900.0</td>\n",
       "      <td>3</td>\n",
       "      <td>1.00</td>\n",
       "      <td>1180</td>\n",
       "      <td>5650</td>\n",
       "      <td>1.0</td>\n",
       "      <td>0</td>\n",
       "      <td>0</td>\n",
       "      <td>3</td>\n",
       "      <td>7</td>\n",
       "      <td>1180</td>\n",
       "      <td>0</td>\n",
       "      <td>1955</td>\n",
       "      <td>0</td>\n",
       "      <td>98178</td>\n",
       "      <td>47.5112</td>\n",
       "      <td>-122.257</td>\n",
       "      <td>1340</td>\n",
       "      <td>5650</td>\n",
       "      <td>10</td>\n",
       "      <td>2014</td>\n",
       "    </tr>\n",
       "    <tr>\n",
       "      <th>1</th>\n",
       "      <td>6414100192</td>\n",
       "      <td>2014-12-09</td>\n",
       "      <td>538000.0</td>\n",
       "      <td>3</td>\n",
       "      <td>2.25</td>\n",
       "      <td>2570</td>\n",
       "      <td>7242</td>\n",
       "      <td>2.0</td>\n",
       "      <td>0</td>\n",
       "      <td>0</td>\n",
       "      <td>3</td>\n",
       "      <td>7</td>\n",
       "      <td>2170</td>\n",
       "      <td>400</td>\n",
       "      <td>1951</td>\n",
       "      <td>1991</td>\n",
       "      <td>98125</td>\n",
       "      <td>47.7210</td>\n",
       "      <td>-122.319</td>\n",
       "      <td>1690</td>\n",
       "      <td>7639</td>\n",
       "      <td>12</td>\n",
       "      <td>2014</td>\n",
       "    </tr>\n",
       "    <tr>\n",
       "      <th>2</th>\n",
       "      <td>5631500400</td>\n",
       "      <td>2015-02-25</td>\n",
       "      <td>180000.0</td>\n",
       "      <td>2</td>\n",
       "      <td>1.00</td>\n",
       "      <td>770</td>\n",
       "      <td>10000</td>\n",
       "      <td>1.0</td>\n",
       "      <td>0</td>\n",
       "      <td>0</td>\n",
       "      <td>3</td>\n",
       "      <td>6</td>\n",
       "      <td>770</td>\n",
       "      <td>0</td>\n",
       "      <td>1933</td>\n",
       "      <td>0</td>\n",
       "      <td>98028</td>\n",
       "      <td>47.7379</td>\n",
       "      <td>-122.233</td>\n",
       "      <td>2720</td>\n",
       "      <td>8062</td>\n",
       "      <td>2</td>\n",
       "      <td>2015</td>\n",
       "    </tr>\n",
       "    <tr>\n",
       "      <th>3</th>\n",
       "      <td>2487200875</td>\n",
       "      <td>2014-12-09</td>\n",
       "      <td>604000.0</td>\n",
       "      <td>4</td>\n",
       "      <td>3.00</td>\n",
       "      <td>1960</td>\n",
       "      <td>5000</td>\n",
       "      <td>1.0</td>\n",
       "      <td>0</td>\n",
       "      <td>0</td>\n",
       "      <td>5</td>\n",
       "      <td>7</td>\n",
       "      <td>1050</td>\n",
       "      <td>910</td>\n",
       "      <td>1965</td>\n",
       "      <td>0</td>\n",
       "      <td>98136</td>\n",
       "      <td>47.5208</td>\n",
       "      <td>-122.393</td>\n",
       "      <td>1360</td>\n",
       "      <td>5000</td>\n",
       "      <td>12</td>\n",
       "      <td>2014</td>\n",
       "    </tr>\n",
       "    <tr>\n",
       "      <th>4</th>\n",
       "      <td>1954400510</td>\n",
       "      <td>2015-02-18</td>\n",
       "      <td>510000.0</td>\n",
       "      <td>3</td>\n",
       "      <td>2.00</td>\n",
       "      <td>1680</td>\n",
       "      <td>8080</td>\n",
       "      <td>1.0</td>\n",
       "      <td>0</td>\n",
       "      <td>0</td>\n",
       "      <td>3</td>\n",
       "      <td>8</td>\n",
       "      <td>1680</td>\n",
       "      <td>0</td>\n",
       "      <td>1987</td>\n",
       "      <td>0</td>\n",
       "      <td>98074</td>\n",
       "      <td>47.6168</td>\n",
       "      <td>-122.045</td>\n",
       "      <td>1800</td>\n",
       "      <td>7503</td>\n",
       "      <td>2</td>\n",
       "      <td>2015</td>\n",
       "    </tr>\n",
       "  </tbody>\n",
       "</table>\n",
       "</div>"
      ],
      "text/plain": [
       "           id       date     price  bedrooms  bathrooms  sqft_living  \\\n",
       "0  7129300520 2014-10-13  221900.0         3       1.00         1180   \n",
       "1  6414100192 2014-12-09  538000.0         3       2.25         2570   \n",
       "2  5631500400 2015-02-25  180000.0         2       1.00          770   \n",
       "3  2487200875 2014-12-09  604000.0         4       3.00         1960   \n",
       "4  1954400510 2015-02-18  510000.0         3       2.00         1680   \n",
       "\n",
       "   sqft_lot  floors  waterfront  view  condition  grade  sqft_above  \\\n",
       "0      5650     1.0           0     0          3      7        1180   \n",
       "1      7242     2.0           0     0          3      7        2170   \n",
       "2     10000     1.0           0     0          3      6         770   \n",
       "3      5000     1.0           0     0          5      7        1050   \n",
       "4      8080     1.0           0     0          3      8        1680   \n",
       "\n",
       "   sqft_basement  yr_built  yr_renovated zipcode  latitude  longitude  \\\n",
       "0              0      1955             0   98178   47.5112   -122.257   \n",
       "1            400      1951          1991   98125   47.7210   -122.319   \n",
       "2              0      1933             0   98028   47.7379   -122.233   \n",
       "3            910      1965             0   98136   47.5208   -122.393   \n",
       "4              0      1987             0   98074   47.6168   -122.045   \n",
       "\n",
       "   sqft_living15  sqft_lot15  month  year  \n",
       "0           1340        5650     10  2014  \n",
       "1           1690        7639     12  2014  \n",
       "2           2720        8062      2  2015  \n",
       "3           1360        5000     12  2014  \n",
       "4           1800        7503      2  2015  "
      ]
     },
     "execution_count": 105,
     "metadata": {},
     "output_type": "execute_result"
    }
   ],
   "source": [
    "df.head()"
   ]
  },
  {
   "cell_type": "code",
   "execution_count": 121,
   "id": "9d533a97-59aa-4c52-9aad-79f0afb07621",
   "metadata": {},
   "outputs": [
    {
     "data": {
      "text/plain": [
       "count    21613.000000\n",
       "mean         3.370842\n",
       "std          0.930062\n",
       "min          0.000000\n",
       "25%          3.000000\n",
       "50%          3.000000\n",
       "75%          4.000000\n",
       "max         33.000000\n",
       "Name: bedrooms, dtype: float64"
      ]
     },
     "execution_count": 121,
     "metadata": {},
     "output_type": "execute_result"
    }
   ],
   "source": [
    "# assessing for 'interesting' inputs (homes with 0 bedrooms / bathrooms)\n",
    "\n",
    "df['bedrooms'].describe()"
   ]
  },
  {
   "cell_type": "code",
   "execution_count": 123,
   "id": "ce8ace86-8488-4685-9ce4-7df913142fdc",
   "metadata": {},
   "outputs": [
    {
     "data": {
      "text/plain": [
       "bedrooms\n",
       "3     9824\n",
       "4     6882\n",
       "2     2760\n",
       "5     1601\n",
       "6      272\n",
       "1      199\n",
       "7       38\n",
       "0       13\n",
       "8       13\n",
       "9        6\n",
       "10       3\n",
       "11       1\n",
       "33       1\n",
       "Name: count, dtype: int64"
      ]
     },
     "execution_count": 123,
     "metadata": {},
     "output_type": "execute_result"
    }
   ],
   "source": [
    "# why is there a house with 33 bedrooms, investigating this...\n",
    "\n",
    "df['bedrooms'].value_counts(dropna=False)"
   ]
  },
  {
   "cell_type": "code",
   "execution_count": 125,
   "id": "cc46c7dd-4e1d-4660-aee3-3bc678313abb",
   "metadata": {},
   "outputs": [],
   "source": [
    "# the majority of houses have three bedrooms, it is likely that the house with 33 bedrooms has 3 bedrooms\n",
    "# will confirm by checking square footage, then will more closely assess houses with zero bedrooms"
   ]
  },
  {
   "cell_type": "code",
   "execution_count": 127,
   "id": "03d81753-082a-46a3-94cf-3e521ab1d6b3",
   "metadata": {},
   "outputs": [
    {
     "name": "stdout",
     "output_type": "stream",
     "text": [
      "               id       date     price  bedrooms  bathrooms  sqft_living  \\\n",
      "15870  2402100895 2014-06-25  640000.0        33       1.75         1620   \n",
      "\n",
      "       sqft_lot  floors  waterfront  view  condition  grade  sqft_above  \\\n",
      "15870      6000     1.0           0     0          5      7        1040   \n",
      "\n",
      "       sqft_basement  yr_built  yr_renovated zipcode  latitude  longitude  \\\n",
      "15870            580      1947             0   98103   47.6878   -122.331   \n",
      "\n",
      "       sqft_living15  sqft_lot15  month  year  \n",
      "15870           1330        4700      6  2014  \n"
     ]
    }
   ],
   "source": [
    "# df_prods[df_prods['department_id']==19]\n",
    "\n",
    "print(df[df['bedrooms']==33])"
   ]
  },
  {
   "cell_type": "code",
   "execution_count": 129,
   "id": "60c34ff6-aa74-4a44-9316-307097426ced",
   "metadata": {},
   "outputs": [
    {
     "name": "stdout",
     "output_type": "stream",
     "text": [
      "               id       date      price  bedrooms  bathrooms  sqft_living  \\\n",
      "875    6306400140 2014-06-12  1095000.0         0       0.00         3064   \n",
      "3119   3918400017 2015-02-05   380000.0         0       0.00         1470   \n",
      "3467   1453602309 2014-08-05   288000.0         0       1.50         1430   \n",
      "4868   6896300380 2014-10-02   228000.0         0       1.00          390   \n",
      "6994   2954400190 2014-06-24  1295650.0         0       0.00         4810   \n",
      "8477   2569500210 2014-11-17   339950.0         0       2.50         2290   \n",
      "8484   2310060040 2014-09-25   240000.0         0       2.50         1810   \n",
      "9773   3374500520 2015-04-29   355000.0         0       0.00         2460   \n",
      "9854   7849202190 2014-12-23   235000.0         0       0.00         1470   \n",
      "12653  7849202299 2015-02-18   320000.0         0       2.50         1490   \n",
      "14423  9543000205 2015-04-13   139950.0         0       0.00          844   \n",
      "18379  1222029077 2014-10-29   265000.0         0       0.75          384   \n",
      "19452  3980300371 2014-09-26   142000.0         0       0.00          290   \n",
      "\n",
      "       sqft_lot  floors  waterfront  view  condition  grade  sqft_above  \\\n",
      "875        4764     3.5           0     2          3      7        3064   \n",
      "3119        979     3.0           0     2          3      8        1470   \n",
      "3467       1650     3.0           0     0          3      7        1430   \n",
      "4868       5900     1.0           0     0          2      4         390   \n",
      "6994      28008     2.0           0     0          3     12        4810   \n",
      "8477       8319     2.0           0     0          3      8        2290   \n",
      "8484       5669     2.0           0     0          3      7        1810   \n",
      "9773       8049     2.0           0     0          3      8        2460   \n",
      "9854       4800     2.0           0     0          3      7        1470   \n",
      "12653      7111     2.0           0     0          3      7        1490   \n",
      "14423      4269     1.0           0     0          4      7         844   \n",
      "18379    213444     1.0           0     0          3      4         384   \n",
      "19452     20875     1.0           0     0          1      1         290   \n",
      "\n",
      "       sqft_basement  yr_built  yr_renovated zipcode  latitude  longitude  \\\n",
      "875                0      1990             0   98102   47.6362   -122.322   \n",
      "3119               0      2006             0   98133   47.7145   -122.356   \n",
      "3467               0      1999             0   98125   47.7222   -122.290   \n",
      "4868               0      1953             0   98118   47.5260   -122.261   \n",
      "6994               0      1990             0   98053   47.6642   -122.069   \n",
      "8477               0      1985             0   98042   47.3473   -122.151   \n",
      "8484               0      2003             0   98038   47.3493   -122.053   \n",
      "9773               0      1990             0   98031   47.4095   -122.168   \n",
      "9854               0      1996             0   98065   47.5265   -121.828   \n",
      "12653              0      1999             0   98065   47.5261   -121.826   \n",
      "14423              0      1913             0   98001   47.2781   -122.250   \n",
      "18379              0      2003             0   98070   47.4177   -122.491   \n",
      "19452              0      1963             0   98024   47.5308   -121.888   \n",
      "\n",
      "       sqft_living15  sqft_lot15  month  year  \n",
      "875             2360        4000      6  2014  \n",
      "3119            1470        1399      2  2015  \n",
      "3467            1430        1650      8  2014  \n",
      "4868            2170        6000     10  2014  \n",
      "6994            4740       35061      6  2014  \n",
      "8477            2500        8751     11  2014  \n",
      "8484            1810        5685      9  2014  \n",
      "9773            2520        8050      4  2015  \n",
      "9854            1060        7200     12  2014  \n",
      "12653           1500        4675      2  2015  \n",
      "14423           1380        9600      4  2015  \n",
      "18379           1920      224341     10  2014  \n",
      "19452           1620       22850      9  2014  \n"
     ]
    }
   ],
   "source": [
    "# this home definitely does not have 33 bedrooms in 1620 sq ft of living space. we can exclude this entry.\n",
    "\n",
    "df = df.loc[df['bedrooms'] < 33]\n",
    "\n",
    "# take a closer look at homes with zero bedrooms\n",
    "\n",
    "print(df[df['bedrooms']==0])"
   ]
  },
  {
   "cell_type": "code",
   "execution_count": 131,
   "id": "bb49b531-f4f7-46cb-82ab-66d73ff83027",
   "metadata": {},
   "outputs": [
    {
     "name": "stdout",
     "output_type": "stream",
     "text": [
      "               id       date      price  bedrooms  bathrooms  sqft_living  \\\n",
      "875    6306400140 2014-06-12  1095000.0         0        0.0         3064   \n",
      "3119   3918400017 2015-02-05   380000.0         0        0.0         1470   \n",
      "6994   2954400190 2014-06-24  1295650.0         0        0.0         4810   \n",
      "9773   3374500520 2015-04-29   355000.0         0        0.0         2460   \n",
      "9854   7849202190 2014-12-23   235000.0         0        0.0         1470   \n",
      "14423  9543000205 2015-04-13   139950.0         0        0.0          844   \n",
      "19452  3980300371 2014-09-26   142000.0         0        0.0          290   \n",
      "\n",
      "       sqft_lot  floors  waterfront  view  condition  grade  sqft_above  \\\n",
      "875        4764     3.5           0     2          3      7        3064   \n",
      "3119        979     3.0           0     2          3      8        1470   \n",
      "6994      28008     2.0           0     0          3     12        4810   \n",
      "9773       8049     2.0           0     0          3      8        2460   \n",
      "9854       4800     2.0           0     0          3      7        1470   \n",
      "14423      4269     1.0           0     0          4      7         844   \n",
      "19452     20875     1.0           0     0          1      1         290   \n",
      "\n",
      "       sqft_basement  yr_built  yr_renovated zipcode  latitude  longitude  \\\n",
      "875                0      1990             0   98102   47.6362   -122.322   \n",
      "3119               0      2006             0   98133   47.7145   -122.356   \n",
      "6994               0      1990             0   98053   47.6642   -122.069   \n",
      "9773               0      1990             0   98031   47.4095   -122.168   \n",
      "9854               0      1996             0   98065   47.5265   -121.828   \n",
      "14423              0      1913             0   98001   47.2781   -122.250   \n",
      "19452              0      1963             0   98024   47.5308   -121.888   \n",
      "\n",
      "       sqft_living15  sqft_lot15  month  year  \n",
      "875             2360        4000      6  2014  \n",
      "3119            1470        1399      2  2015  \n",
      "6994            4740       35061      6  2014  \n",
      "9773            2520        8050      4  2015  \n",
      "9854            1060        7200     12  2014  \n",
      "14423           1380        9600      4  2015  \n",
      "19452           1620       22850      9  2014  \n"
     ]
    }
   ],
   "source": [
    "# there appear to be homes with zero bedrooms and bathrooms, taking a closer look.\n",
    "\n",
    "print(df[(df['bedrooms'] == 0) & (df['bathrooms'] == 0)])"
   ]
  },
  {
   "cell_type": "code",
   "execution_count": 133,
   "id": "5d0a90b0-8b4d-4869-8e13-383f04140ed6",
   "metadata": {},
   "outputs": [
    {
     "data": {
      "text/plain": [
       "(21612, 23)"
      ]
     },
     "execution_count": 133,
     "metadata": {},
     "output_type": "execute_result"
    }
   ],
   "source": [
    "# there are 7 entries where homes have 0 bedrooms and 0 bathrooms\n",
    "# this could be a data entry error, and these values should be excluded from the analysis due to inaccuracy.\n",
    "\n",
    "# updating the data frame to exclude these but first checking the shape, we should have 21612 rows\n",
    "df.shape"
   ]
  },
  {
   "cell_type": "code",
   "execution_count": 138,
   "id": "b79aca6f-af16-4211-82ed-0b2ec2cb8b3d",
   "metadata": {},
   "outputs": [
    {
     "data": {
      "text/plain": [
       "bathrooms\n",
       "2.50    5380\n",
       "1.00    3852\n",
       "1.75    3047\n",
       "2.25    2047\n",
       "2.00    1930\n",
       "1.50    1446\n",
       "2.75    1185\n",
       "3.00     753\n",
       "3.50     731\n",
       "3.25     589\n",
       "3.75     155\n",
       "4.00     136\n",
       "4.50     100\n",
       "4.25      79\n",
       "0.75      72\n",
       "4.75      23\n",
       "5.00      21\n",
       "5.25      13\n",
       "0.00      10\n",
       "5.50      10\n",
       "1.25       9\n",
       "6.00       6\n",
       "0.50       4\n",
       "5.75       4\n",
       "6.75       2\n",
       "8.00       2\n",
       "6.25       2\n",
       "6.50       2\n",
       "7.50       1\n",
       "7.75       1\n",
       "Name: count, dtype: int64"
      ]
     },
     "execution_count": 138,
     "metadata": {},
     "output_type": "execute_result"
    }
   ],
   "source": [
    "df['bathrooms'].value_counts(dropna=False)"
   ]
  },
  {
   "cell_type": "code",
   "execution_count": 142,
   "id": "d3f7d491-1040-4bfd-a3fb-f79a6c3f034a",
   "metadata": {},
   "outputs": [
    {
     "data": {
      "text/plain": [
       "count    21612.000000\n",
       "mean         2.114774\n",
       "std          0.770177\n",
       "min          0.000000\n",
       "25%          1.750000\n",
       "50%          2.250000\n",
       "75%          2.500000\n",
       "max          8.000000\n",
       "Name: bathrooms, dtype: float64"
      ]
     },
     "execution_count": 142,
     "metadata": {},
     "output_type": "execute_result"
    }
   ],
   "source": [
    "df['bathrooms'].describe()"
   ]
  },
  {
   "cell_type": "code",
   "execution_count": 146,
   "id": "ae31582a-9a79-4b2c-8313-0f9a61733182",
   "metadata": {},
   "outputs": [
    {
     "name": "stdout",
     "output_type": "stream",
     "text": [
      "               id       date      price  bedrooms  bathrooms  sqft_living  \\\n",
      "875    6306400140 2014-06-12  1095000.0         0        0.0         3064   \n",
      "1149   3421079032 2015-02-17    75000.0         1        0.0          670   \n",
      "3119   3918400017 2015-02-05   380000.0         0        0.0         1470   \n",
      "5832   5702500050 2014-11-04   280000.0         1        0.0          600   \n",
      "6994   2954400190 2014-06-24  1295650.0         0        0.0         4810   \n",
      "9773   3374500520 2015-04-29   355000.0         0        0.0         2460   \n",
      "9854   7849202190 2014-12-23   235000.0         0        0.0         1470   \n",
      "10481   203100435 2014-09-18   484000.0         1        0.0          690   \n",
      "14423  9543000205 2015-04-13   139950.0         0        0.0          844   \n",
      "19452  3980300371 2014-09-26   142000.0         0        0.0          290   \n",
      "\n",
      "       sqft_lot  floors  waterfront  view  condition  grade  sqft_above  \\\n",
      "875        4764     3.5           0     2          3      7        3064   \n",
      "1149      43377     1.0           0     0          3      3         670   \n",
      "3119        979     3.0           0     2          3      8        1470   \n",
      "5832      24501     1.0           0     0          2      3         600   \n",
      "6994      28008     2.0           0     0          3     12        4810   \n",
      "9773       8049     2.0           0     0          3      8        2460   \n",
      "9854       4800     2.0           0     0          3      7        1470   \n",
      "10481     23244     1.0           0     0          4      7         690   \n",
      "14423      4269     1.0           0     0          4      7         844   \n",
      "19452     20875     1.0           0     0          1      1         290   \n",
      "\n",
      "       sqft_basement  yr_built  yr_renovated zipcode  latitude  longitude  \\\n",
      "875                0      1990             0   98102   47.6362   -122.322   \n",
      "1149               0      1966             0   98022   47.2638   -121.906   \n",
      "3119               0      2006             0   98133   47.7145   -122.356   \n",
      "5832               0      1950             0   98045   47.5316   -121.749   \n",
      "6994               0      1990             0   98053   47.6642   -122.069   \n",
      "9773               0      1990             0   98031   47.4095   -122.168   \n",
      "9854               0      1996             0   98065   47.5265   -121.828   \n",
      "10481              0      1948             0   98053   47.6429   -121.955   \n",
      "14423              0      1913             0   98001   47.2781   -122.250   \n",
      "19452              0      1963             0   98024   47.5308   -121.888   \n",
      "\n",
      "       sqft_living15  sqft_lot15  month  year  \n",
      "875             2360        4000      6  2014  \n",
      "1149            1160       42882      2  2015  \n",
      "3119            1470        1399      2  2015  \n",
      "5832             990       22549     11  2014  \n",
      "6994            4740       35061      6  2014  \n",
      "9773            2520        8050      4  2015  \n",
      "9854            1060        7200     12  2014  \n",
      "10481           1690       19290      9  2014  \n",
      "14423           1380        9600      4  2015  \n",
      "19452           1620       22850      9  2014  \n"
     ]
    }
   ],
   "source": [
    "print(df[df['bathrooms']==0])"
   ]
  },
  {
   "cell_type": "code",
   "execution_count": 148,
   "id": "b86567b6-1907-459b-b59f-fd3c04dbaf2e",
   "metadata": {},
   "outputs": [],
   "source": [
    "zero_bathrooms = (df[df['bathrooms']==0])"
   ]
  },
  {
   "cell_type": "code",
   "execution_count": 150,
   "id": "c0404d0f-f52c-4fb7-b415-c0cbae88fd87",
   "metadata": {},
   "outputs": [
    {
     "name": "stdout",
     "output_type": "stream",
     "text": [
      "               id       date      price  bedrooms  bathrooms  sqft_living  \\\n",
      "875    6306400140 2014-06-12  1095000.0         0        0.0         3064   \n",
      "1149   3421079032 2015-02-17    75000.0         1        0.0          670   \n",
      "3119   3918400017 2015-02-05   380000.0         0        0.0         1470   \n",
      "5832   5702500050 2014-11-04   280000.0         1        0.0          600   \n",
      "6994   2954400190 2014-06-24  1295650.0         0        0.0         4810   \n",
      "9773   3374500520 2015-04-29   355000.0         0        0.0         2460   \n",
      "9854   7849202190 2014-12-23   235000.0         0        0.0         1470   \n",
      "10481   203100435 2014-09-18   484000.0         1        0.0          690   \n",
      "14423  9543000205 2015-04-13   139950.0         0        0.0          844   \n",
      "19452  3980300371 2014-09-26   142000.0         0        0.0          290   \n",
      "\n",
      "       sqft_lot  floors  waterfront  view  condition  grade  sqft_above  \\\n",
      "875        4764     3.5           0     2          3      7        3064   \n",
      "1149      43377     1.0           0     0          3      3         670   \n",
      "3119        979     3.0           0     2          3      8        1470   \n",
      "5832      24501     1.0           0     0          2      3         600   \n",
      "6994      28008     2.0           0     0          3     12        4810   \n",
      "9773       8049     2.0           0     0          3      8        2460   \n",
      "9854       4800     2.0           0     0          3      7        1470   \n",
      "10481     23244     1.0           0     0          4      7         690   \n",
      "14423      4269     1.0           0     0          4      7         844   \n",
      "19452     20875     1.0           0     0          1      1         290   \n",
      "\n",
      "       sqft_basement  yr_built  yr_renovated zipcode  latitude  longitude  \\\n",
      "875                0      1990             0   98102   47.6362   -122.322   \n",
      "1149               0      1966             0   98022   47.2638   -121.906   \n",
      "3119               0      2006             0   98133   47.7145   -122.356   \n",
      "5832               0      1950             0   98045   47.5316   -121.749   \n",
      "6994               0      1990             0   98053   47.6642   -122.069   \n",
      "9773               0      1990             0   98031   47.4095   -122.168   \n",
      "9854               0      1996             0   98065   47.5265   -121.828   \n",
      "10481              0      1948             0   98053   47.6429   -121.955   \n",
      "14423              0      1913             0   98001   47.2781   -122.250   \n",
      "19452              0      1963             0   98024   47.5308   -121.888   \n",
      "\n",
      "       sqft_living15  sqft_lot15  month  year  \n",
      "875             2360        4000      6  2014  \n",
      "1149            1160       42882      2  2015  \n",
      "3119            1470        1399      2  2015  \n",
      "5832             990       22549     11  2014  \n",
      "6994            4740       35061      6  2014  \n",
      "9773            2520        8050      4  2015  \n",
      "9854            1060        7200     12  2014  \n",
      "10481           1690       19290      9  2014  \n",
      "14423           1380        9600      4  2015  \n",
      "19452           1620       22850      9  2014  \n"
     ]
    }
   ],
   "source": [
    "print(zero_bathrooms)"
   ]
  },
  {
   "cell_type": "code",
   "execution_count": 152,
   "id": "d5d7e7b9-44fe-4969-95c4-3f21e7d880da",
   "metadata": {},
   "outputs": [
    {
     "data": {
      "text/plain": [
       "(10, 23)"
      ]
     },
     "execution_count": 152,
     "metadata": {},
     "output_type": "execute_result"
    }
   ],
   "source": [
    "zero_bathrooms.shape"
   ]
  },
  {
   "cell_type": "code",
   "execution_count": 156,
   "id": "f708556f-f135-4868-9f1e-96da4c885074",
   "metadata": {},
   "outputs": [
    {
     "name": "stdout",
     "output_type": "stream",
     "text": [
      "               id       date      price  bedrooms  bathrooms  sqft_living  \\\n",
      "875    6306400140 2014-06-12  1095000.0         0        0.0         3064   \n",
      "3119   3918400017 2015-02-05   380000.0         0        0.0         1470   \n",
      "6994   2954400190 2014-06-24  1295650.0         0        0.0         4810   \n",
      "9773   3374500520 2015-04-29   355000.0         0        0.0         2460   \n",
      "9854   7849202190 2014-12-23   235000.0         0        0.0         1470   \n",
      "14423  9543000205 2015-04-13   139950.0         0        0.0          844   \n",
      "19452  3980300371 2014-09-26   142000.0         0        0.0          290   \n",
      "\n",
      "       sqft_lot  floors  waterfront  view  condition  grade  sqft_above  \\\n",
      "875        4764     3.5           0     2          3      7        3064   \n",
      "3119        979     3.0           0     2          3      8        1470   \n",
      "6994      28008     2.0           0     0          3     12        4810   \n",
      "9773       8049     2.0           0     0          3      8        2460   \n",
      "9854       4800     2.0           0     0          3      7        1470   \n",
      "14423      4269     1.0           0     0          4      7         844   \n",
      "19452     20875     1.0           0     0          1      1         290   \n",
      "\n",
      "       sqft_basement  yr_built  yr_renovated zipcode  latitude  longitude  \\\n",
      "875                0      1990             0   98102   47.6362   -122.322   \n",
      "3119               0      2006             0   98133   47.7145   -122.356   \n",
      "6994               0      1990             0   98053   47.6642   -122.069   \n",
      "9773               0      1990             0   98031   47.4095   -122.168   \n",
      "9854               0      1996             0   98065   47.5265   -121.828   \n",
      "14423              0      1913             0   98001   47.2781   -122.250   \n",
      "19452              0      1963             0   98024   47.5308   -121.888   \n",
      "\n",
      "       sqft_living15  sqft_lot15  month  year  \n",
      "875             2360        4000      6  2014  \n",
      "3119            1470        1399      2  2015  \n",
      "6994            4740       35061      6  2014  \n",
      "9773            2520        8050      4  2015  \n",
      "9854            1060        7200     12  2014  \n",
      "14423           1380        9600      4  2015  \n",
      "19452           1620       22850      9  2014  \n"
     ]
    }
   ],
   "source": [
    "print(zero_bathrooms[zero_bathrooms['bedrooms']==0])"
   ]
  },
  {
   "cell_type": "code",
   "execution_count": 158,
   "id": "da69240c-4056-4215-a0b5-b2f9f77abcbe",
   "metadata": {},
   "outputs": [],
   "source": [
    "zero_bedbath = (zero_bathrooms[zero_bathrooms['bedrooms']==0])"
   ]
  },
  {
   "cell_type": "code",
   "execution_count": 160,
   "id": "8554504a-8b66-46f8-97bb-f260b1107f3b",
   "metadata": {},
   "outputs": [
    {
     "name": "stdout",
     "output_type": "stream",
     "text": [
      "               id       date      price  bedrooms  bathrooms  sqft_living  \\\n",
      "875    6306400140 2014-06-12  1095000.0         0        0.0         3064   \n",
      "3119   3918400017 2015-02-05   380000.0         0        0.0         1470   \n",
      "6994   2954400190 2014-06-24  1295650.0         0        0.0         4810   \n",
      "9773   3374500520 2015-04-29   355000.0         0        0.0         2460   \n",
      "9854   7849202190 2014-12-23   235000.0         0        0.0         1470   \n",
      "14423  9543000205 2015-04-13   139950.0         0        0.0          844   \n",
      "19452  3980300371 2014-09-26   142000.0         0        0.0          290   \n",
      "\n",
      "       sqft_lot  floors  waterfront  view  condition  grade  sqft_above  \\\n",
      "875        4764     3.5           0     2          3      7        3064   \n",
      "3119        979     3.0           0     2          3      8        1470   \n",
      "6994      28008     2.0           0     0          3     12        4810   \n",
      "9773       8049     2.0           0     0          3      8        2460   \n",
      "9854       4800     2.0           0     0          3      7        1470   \n",
      "14423      4269     1.0           0     0          4      7         844   \n",
      "19452     20875     1.0           0     0          1      1         290   \n",
      "\n",
      "       sqft_basement  yr_built  yr_renovated zipcode  latitude  longitude  \\\n",
      "875                0      1990             0   98102   47.6362   -122.322   \n",
      "3119               0      2006             0   98133   47.7145   -122.356   \n",
      "6994               0      1990             0   98053   47.6642   -122.069   \n",
      "9773               0      1990             0   98031   47.4095   -122.168   \n",
      "9854               0      1996             0   98065   47.5265   -121.828   \n",
      "14423              0      1913             0   98001   47.2781   -122.250   \n",
      "19452              0      1963             0   98024   47.5308   -121.888   \n",
      "\n",
      "       sqft_living15  sqft_lot15  month  year  \n",
      "875             2360        4000      6  2014  \n",
      "3119            1470        1399      2  2015  \n",
      "6994            4740       35061      6  2014  \n",
      "9773            2520        8050      4  2015  \n",
      "9854            1060        7200     12  2014  \n",
      "14423           1380        9600      4  2015  \n",
      "19452           1620       22850      9  2014  \n"
     ]
    },
    {
     "data": {
      "text/plain": [
       "(7, 23)"
      ]
     },
     "execution_count": 160,
     "metadata": {},
     "output_type": "execute_result"
    }
   ],
   "source": [
    "print(zero_bedbath)\n",
    "zero_bedbath.shape"
   ]
  },
  {
   "cell_type": "code",
   "execution_count": 184,
   "id": "1ef1eabc-d66d-4478-ad31-8aa5a5b2d2c5",
   "metadata": {},
   "outputs": [],
   "source": [
    "# there are 7 entries where the house has zero bedrooms and bathrooms. These should be excluded from our dataset. \n",
    "# while there are only 7 entries that do not have bedroom and bathroom, there are a total of ten entries without a bathroom\n",
    "# we will be excluding these ten entries "
   ]
  },
  {
   "cell_type": "code",
   "execution_count": 164,
   "id": "769a3242-0a24-4ae0-b26b-65223f44cc01",
   "metadata": {},
   "outputs": [],
   "source": [
    "# export data to new path\n",
    "path1 = r'/Users/piperdutcher/Documents/Achievement 6/02 Data/Prepared Data'\n",
    "df.to_csv(os.path.join(path1, 'updated_dataset.csv'))"
   ]
  },
  {
   "cell_type": "code",
   "execution_count": 190,
   "id": "24483d03-bca6-4c40-9abd-5a60a124e659",
   "metadata": {},
   "outputs": [
    {
     "name": "stdout",
     "output_type": "stream",
     "text": [
      "               id       date     price  bedrooms  bathrooms  sqft_living  \\\n",
      "0      7129300520 2014-10-13  221900.0         3       1.00         1180   \n",
      "1      6414100192 2014-12-09  538000.0         3       2.25         2570   \n",
      "2      5631500400 2015-02-25  180000.0         2       1.00          770   \n",
      "3      2487200875 2014-12-09  604000.0         4       3.00         1960   \n",
      "4      1954400510 2015-02-18  510000.0         3       2.00         1680   \n",
      "...           ...        ...       ...       ...        ...          ...   \n",
      "21608   263000018 2014-05-21  360000.0         3       2.50         1530   \n",
      "21609  6600060120 2015-02-23  400000.0         4       2.50         2310   \n",
      "21610  1523300141 2014-06-23  402101.0         2       0.75         1020   \n",
      "21611   291310100 2015-01-16  400000.0         3       2.50         1600   \n",
      "21612  1523300157 2014-10-15  325000.0         2       0.75         1020   \n",
      "\n",
      "       sqft_lot  floors  waterfront  view  condition  grade  sqft_above  \\\n",
      "0          5650     1.0           0     0          3      7        1180   \n",
      "1          7242     2.0           0     0          3      7        2170   \n",
      "2         10000     1.0           0     0          3      6         770   \n",
      "3          5000     1.0           0     0          5      7        1050   \n",
      "4          8080     1.0           0     0          3      8        1680   \n",
      "...         ...     ...         ...   ...        ...    ...         ...   \n",
      "21608      1131     3.0           0     0          3      8        1530   \n",
      "21609      5813     2.0           0     0          3      8        2310   \n",
      "21610      1350     2.0           0     0          3      7        1020   \n",
      "21611      2388     2.0           0     0          3      8        1600   \n",
      "21612      1076     2.0           0     0          3      7        1020   \n",
      "\n",
      "       sqft_basement  yr_built  yr_renovated zipcode  latitude  longitude  \\\n",
      "0                  0      1955             0   98178   47.5112   -122.257   \n",
      "1                400      1951          1991   98125   47.7210   -122.319   \n",
      "2                  0      1933             0   98028   47.7379   -122.233   \n",
      "3                910      1965             0   98136   47.5208   -122.393   \n",
      "4                  0      1987             0   98074   47.6168   -122.045   \n",
      "...              ...       ...           ...     ...       ...        ...   \n",
      "21608              0      2009             0   98103   47.6993   -122.346   \n",
      "21609              0      2014             0   98146   47.5107   -122.362   \n",
      "21610              0      2009             0   98144   47.5944   -122.299   \n",
      "21611              0      2004             0   98027   47.5345   -122.069   \n",
      "21612              0      2008             0   98144   47.5941   -122.299   \n",
      "\n",
      "       sqft_living15  sqft_lot15  month  year  \n",
      "0               1340        5650     10  2014  \n",
      "1               1690        7639     12  2014  \n",
      "2               2720        8062      2  2015  \n",
      "3               1360        5000     12  2014  \n",
      "4               1800        7503      2  2015  \n",
      "...              ...         ...    ...   ...  \n",
      "21608           1530        1509      5  2014  \n",
      "21609           1830        7200      2  2015  \n",
      "21610           1020        2007      6  2014  \n",
      "21611           1410        1287      1  2015  \n",
      "21612           1020        1357     10  2014  \n",
      "\n",
      "[21602 rows x 23 columns]\n"
     ]
    }
   ],
   "source": [
    "print(df[(df['bathrooms'] > 0)])"
   ]
  },
  {
   "cell_type": "code",
   "execution_count": 196,
   "id": "027b6264-24d5-420f-b8d2-acfd11691938",
   "metadata": {},
   "outputs": [],
   "source": [
    "df1 = (df[df['bathrooms']>0])"
   ]
  },
  {
   "cell_type": "code",
   "execution_count": 198,
   "id": "b4c52932-2c17-411a-a1c2-c1a04f82d65a",
   "metadata": {},
   "outputs": [
    {
     "data": {
      "text/plain": [
       "(21602, 23)"
      ]
     },
     "execution_count": 198,
     "metadata": {},
     "output_type": "execute_result"
    }
   ],
   "source": [
    "df1.shape"
   ]
  },
  {
   "cell_type": "code",
   "execution_count": 200,
   "id": "8c7a6901-4af2-4bdb-8d54-0bc412b58b06",
   "metadata": {},
   "outputs": [
    {
     "data": {
      "text/plain": [
       "bedrooms\n",
       "3     9824\n",
       "4     6882\n",
       "2     2760\n",
       "5     1601\n",
       "6      272\n",
       "1      196\n",
       "7       38\n",
       "8       13\n",
       "0        6\n",
       "9        6\n",
       "10       3\n",
       "11       1\n",
       "Name: count, dtype: int64"
      ]
     },
     "execution_count": 200,
     "metadata": {},
     "output_type": "execute_result"
    }
   ],
   "source": [
    "# we have excluded the ten entries missing bathrooms\n",
    "# rechecking entries without bedrooms\n",
    "\n",
    "df1['bedrooms'].value_counts()"
   ]
  },
  {
   "cell_type": "code",
   "execution_count": 202,
   "id": "74ed71be-813d-4b1a-8c42-e390259969b4",
   "metadata": {},
   "outputs": [
    {
     "name": "stdout",
     "output_type": "stream",
     "text": [
      "               id       date     price  bedrooms  bathrooms  sqft_living  \\\n",
      "3467   1453602309 2014-08-05  288000.0         0       1.50         1430   \n",
      "4868   6896300380 2014-10-02  228000.0         0       1.00          390   \n",
      "8477   2569500210 2014-11-17  339950.0         0       2.50         2290   \n",
      "8484   2310060040 2014-09-25  240000.0         0       2.50         1810   \n",
      "12653  7849202299 2015-02-18  320000.0         0       2.50         1490   \n",
      "18379  1222029077 2014-10-29  265000.0         0       0.75          384   \n",
      "\n",
      "       sqft_lot  floors  waterfront  view  condition  grade  sqft_above  \\\n",
      "3467       1650     3.0           0     0          3      7        1430   \n",
      "4868       5900     1.0           0     0          2      4         390   \n",
      "8477       8319     2.0           0     0          3      8        2290   \n",
      "8484       5669     2.0           0     0          3      7        1810   \n",
      "12653      7111     2.0           0     0          3      7        1490   \n",
      "18379    213444     1.0           0     0          3      4         384   \n",
      "\n",
      "       sqft_basement  yr_built  yr_renovated zipcode  latitude  longitude  \\\n",
      "3467               0      1999             0   98125   47.7222   -122.290   \n",
      "4868               0      1953             0   98118   47.5260   -122.261   \n",
      "8477               0      1985             0   98042   47.3473   -122.151   \n",
      "8484               0      2003             0   98038   47.3493   -122.053   \n",
      "12653              0      1999             0   98065   47.5261   -121.826   \n",
      "18379              0      2003             0   98070   47.4177   -122.491   \n",
      "\n",
      "       sqft_living15  sqft_lot15  month  year  \n",
      "3467            1430        1650      8  2014  \n",
      "4868            2170        6000     10  2014  \n",
      "8477            2500        8751     11  2014  \n",
      "8484            1810        5685      9  2014  \n",
      "12653           1500        4675      2  2015  \n",
      "18379           1920      224341     10  2014  \n"
     ]
    }
   ],
   "source": [
    "# there are 6 entries without bedrooms, \n",
    "\n",
    "print(df1[df1['bedrooms'] == 0])"
   ]
  },
  {
   "cell_type": "code",
   "execution_count": 208,
   "id": "6aa0c5a9-8a35-4559-af90-4dded48fd556",
   "metadata": {},
   "outputs": [
    {
     "name": "stdout",
     "output_type": "stream",
     "text": [
      "               id       date     price  bedrooms  bathrooms  sqft_living  \\\n",
      "3467   1453602309 2014-08-05  288000.0         0        1.5         1430   \n",
      "8477   2569500210 2014-11-17  339950.0         0        2.5         2290   \n",
      "8484   2310060040 2014-09-25  240000.0         0        2.5         1810   \n",
      "12653  7849202299 2015-02-18  320000.0         0        2.5         1490   \n",
      "\n",
      "       sqft_lot  floors  waterfront  view  condition  grade  sqft_above  \\\n",
      "3467       1650     3.0           0     0          3      7        1430   \n",
      "8477       8319     2.0           0     0          3      8        2290   \n",
      "8484       5669     2.0           0     0          3      7        1810   \n",
      "12653      7111     2.0           0     0          3      7        1490   \n",
      "\n",
      "       sqft_basement  yr_built  yr_renovated zipcode  latitude  longitude  \\\n",
      "3467               0      1999             0   98125   47.7222   -122.290   \n",
      "8477               0      1985             0   98042   47.3473   -122.151   \n",
      "8484               0      2003             0   98038   47.3493   -122.053   \n",
      "12653              0      1999             0   98065   47.5261   -121.826   \n",
      "\n",
      "       sqft_living15  sqft_lot15  month  year  \n",
      "3467            1430        1650      8  2014  \n",
      "8477            2500        8751     11  2014  \n",
      "8484            1810        5685      9  2014  \n",
      "12653           1500        4675      2  2015  \n"
     ]
    }
   ],
   "source": [
    "# two of these have a sqft_living under 400, indicating that it is possible these are considered micro-units and accurate data entries.\n",
    "# the other four should be excluded from our analysis \n",
    "\n",
    "print(df1[(df1['bedrooms'] == 0) & (df1['sqft_living'] > 400)])"
   ]
  },
  {
   "cell_type": "code",
   "execution_count": 221,
   "id": "c5546cef-beae-43c2-987a-84004e4cce5c",
   "metadata": {},
   "outputs": [],
   "source": [
    "## filtering out the four entries then checking shape to confirm"
   ]
  },
  {
   "cell_type": "code",
   "execution_count": 219,
   "id": "e1e478cd-23c6-4e4f-8568-f06aae775811",
   "metadata": {},
   "outputs": [
    {
     "data": {
      "text/plain": [
       "(21598, 23)"
      ]
     },
     "execution_count": 219,
     "metadata": {},
     "output_type": "execute_result"
    }
   ],
   "source": [
    "filtered_df = df1[~((df1['bedrooms'] == 0) & (df1['sqft_living'] > 400))]\n",
    "filtered_df.shape"
   ]
  },
  {
   "cell_type": "code",
   "execution_count": 229,
   "id": "4fb6406e-40ee-4523-82de-ea464e8ab967",
   "metadata": {},
   "outputs": [
    {
     "data": {
      "text/plain": [
       "count    2.159800e+04\n",
       "mean     5.401711e+05\n",
       "std      3.671355e+05\n",
       "min      7.800000e+04\n",
       "25%      3.220000e+05\n",
       "50%      4.500000e+05\n",
       "75%      6.450000e+05\n",
       "max      7.700000e+06\n",
       "Name: price, dtype: float64"
      ]
     },
     "execution_count": 229,
     "metadata": {},
     "output_type": "execute_result"
    }
   ],
   "source": [
    "#investigating price column\n",
    "\n",
    "filtered_df['price'].describe()"
   ]
  },
  {
   "cell_type": "code",
   "execution_count": 235,
   "id": "16524794-4aa2-44b0-8c53-4277bb2e5e31",
   "metadata": {},
   "outputs": [
    {
     "data": {
      "text/plain": [
       "count    21598.000000\n",
       "mean      2080.186360\n",
       "std        918.224117\n",
       "min        370.000000\n",
       "25%       1430.000000\n",
       "50%       1910.000000\n",
       "75%       2550.000000\n",
       "max      13540.000000\n",
       "Name: sqft_living, dtype: float64"
      ]
     },
     "execution_count": 235,
     "metadata": {},
     "output_type": "execute_result"
    }
   ],
   "source": [
    "filtered_df['sqft_living'].describe()"
   ]
  },
  {
   "cell_type": "code",
   "execution_count": 241,
   "id": "5acc0321-5437-45d4-ae99-c29d3f45c6ed",
   "metadata": {},
   "outputs": [
    {
     "name": "stdout",
     "output_type": "stream",
     "text": [
      "               id       date      price  bedrooms  bathrooms  sqft_living  \\\n",
      "3914   9808700762 2014-06-11  7062500.0         5        4.5        10040   \n",
      "7252   6762700020 2014-10-13  7700000.0         6        8.0        12050   \n",
      "12777  1225069038 2014-05-05  2280000.0         7        8.0        13540   \n",
      "\n",
      "       sqft_lot  floors  waterfront  view  condition  grade  sqft_above  \\\n",
      "3914      37325     2.0           1     2          3     11        7680   \n",
      "7252      27600     2.5           0     3          4     13        8570   \n",
      "12777    307752     3.0           0     4          3     12        9410   \n",
      "\n",
      "       sqft_basement  yr_built  yr_renovated zipcode  latitude  longitude  \\\n",
      "3914            2360      1940          2001   98004   47.6500   -122.214   \n",
      "7252            3480      1910          1987   98102   47.6298   -122.323   \n",
      "12777           4130      1999             0   98053   47.6675   -121.986   \n",
      "\n",
      "       sqft_living15  sqft_lot15  month  year  \n",
      "3914            3930       25449      6  2014  \n",
      "7252            3940        8800     10  2014  \n",
      "12777           4850      217800      5  2014  \n"
     ]
    }
   ],
   "source": [
    "print(filtered_df[(filtered_df['sqft_living'] >10000)])"
   ]
  },
  {
   "cell_type": "code",
   "execution_count": 243,
   "id": "25cad8ea-e961-4600-9426-2564c5cf2ec4",
   "metadata": {},
   "outputs": [
    {
     "name": "stdout",
     "output_type": "stream",
     "text": [
      "               id       date     price  bedrooms  bathrooms  sqft_living  \\\n",
      "465    8658300340 2014-05-23   80000.0         1       0.75          430   \n",
      "860    1723049033 2014-06-20  245000.0         1       0.75          380   \n",
      "1168   3523029041 2014-10-09  290000.0         2       0.75          440   \n",
      "4203   1437500015 2014-07-09  150000.0         3       0.75          490   \n",
      "4868   6896300380 2014-10-02  228000.0         0       1.00          390   \n",
      "8133   7849202585 2014-09-04  170000.0         1       1.00          480   \n",
      "8623   6303400395 2015-01-30  325000.0         1       0.75          410   \n",
      "11500  4322200105 2015-03-31  229050.0         1       1.00          420   \n",
      "12075  8655900162 2015-02-19  156000.0         1       0.75          470   \n",
      "14466  7549801385 2014-06-12  280000.0         1       0.75          420   \n",
      "15248  1320069249 2014-10-20  192500.0         1       1.00          470   \n",
      "15381  2856101479 2014-07-01  276000.0         1       0.75          370   \n",
      "17394   745000005 2014-08-25  145000.0         1       0.75          480   \n",
      "18052  1352300580 2014-11-14  247000.0         1       1.00          460   \n",
      "18379  1222029077 2014-10-29  265000.0         0       0.75          384   \n",
      "21332  9266700190 2015-05-11  245000.0         1       1.00          390   \n",
      "\n",
      "       sqft_lot  floors  waterfront  view  condition  grade  sqft_above  \\\n",
      "465        5050     1.0           0     0          2      4         430   \n",
      "860       15000     1.0           0     0          3      5         380   \n",
      "1168       8313     1.0           1     3          4      5         440   \n",
      "4203      38500     1.5           0     0          4      5         490   \n",
      "4868       5900     1.0           0     0          2      4         390   \n",
      "8133       4560     1.0           0     0          3      5         480   \n",
      "8623       8636     1.0           0     0          2      4         410   \n",
      "11500      3298     1.0           0     0          4      4         420   \n",
      "12075     15000     1.0           0     0          3      4         470   \n",
      "14466      6720     1.0           0     0          3      5         420   \n",
      "15248     63737     1.0           0     2          5      5         470   \n",
      "15381      1801     1.0           0     0          5      5         370   \n",
      "17394      9750     1.0           0     0          2      4         480   \n",
      "18052      4120     1.0           0     0          3      4         460   \n",
      "18379    213444     1.0           0     0          3      4         384   \n",
      "21332      2000     1.0           0     0          4      6         390   \n",
      "\n",
      "       sqft_basement  yr_built  yr_renovated zipcode  latitude  longitude  \\\n",
      "465                0      1912             0   98014   47.6499   -121.909   \n",
      "860                0      1963             0   98168   47.4810   -122.323   \n",
      "1168               0      1943             0   98070   47.4339   -122.512   \n",
      "4203               0      1959             0   98014   47.7112   -121.315   \n",
      "4868               0      1953             0   98118   47.5260   -122.261   \n",
      "8133               0      1922             0   98065   47.5253   -121.826   \n",
      "8623               0      1953             0   98146   47.5077   -122.357   \n",
      "11500              0      1949             0   98136   47.5375   -122.391   \n",
      "12075              0      1947             0   98014   47.6554   -121.908   \n",
      "14466              0      1922             0   98108   47.5520   -122.311   \n",
      "15248              0      1924             0   98022   47.2163   -121.984   \n",
      "15381              0      1923             0   98117   47.6778   -122.389   \n",
      "17394              0      1948             0   98146   47.4982   -122.362   \n",
      "18052              0      1937             0   98055   47.4868   -122.199   \n",
      "18379              0      2003             0   98070   47.4177   -122.491   \n",
      "21332              0      1920             0   98103   47.6938   -122.347   \n",
      "\n",
      "       sqft_living15  sqft_lot15  month  year  \n",
      "465             1200        7500      5  2014  \n",
      "860             1170       15000      6  2014  \n",
      "1168             880       26289     10  2014  \n",
      "4203             800       18297      7  2014  \n",
      "4868            2170        6000     10  2014  \n",
      "8133             890        4803      9  2014  \n",
      "8623            1190        8636      1  2015  \n",
      "11500           1460        4975      3  2015  \n",
      "12075           1730       22500      2  2015  \n",
      "14466           1420        6720      6  2014  \n",
      "15248           1350       46762     10  2014  \n",
      "15381           1340        5000      7  2014  \n",
      "17394           1550        9924      8  2014  \n",
      "18052            990        4120     11  2014  \n",
      "18379           1920      224341     10  2014  \n",
      "21332           1340        5100      5  2015  \n"
     ]
    }
   ],
   "source": [
    "print(filtered_df[(filtered_df['sqft_living'] < 500)])"
   ]
  },
  {
   "cell_type": "code",
   "execution_count": 245,
   "id": "79cfbb3e-ca0c-4cf6-ab7b-3e76abb68b26",
   "metadata": {},
   "outputs": [
    {
     "name": "stdout",
     "output_type": "stream",
     "text": [
      "              id       date     price  bedrooms  bathrooms  sqft_living  \\\n",
      "4203  1437500015 2014-07-09  150000.0         3       0.75          490   \n",
      "\n",
      "      sqft_lot  floors  waterfront  view  condition  grade  sqft_above  \\\n",
      "4203     38500     1.5           0     0          4      5         490   \n",
      "\n",
      "      sqft_basement  yr_built  yr_renovated zipcode  latitude  longitude  \\\n",
      "4203              0      1959             0   98014   47.7112   -121.315   \n",
      "\n",
      "      sqft_living15  sqft_lot15  month  year  \n",
      "4203            800       18297      7  2014  \n"
     ]
    },
    {
     "name": "stderr",
     "output_type": "stream",
     "text": [
      "/var/folders/02/_ydtglj578xfqwjs1hm49rhc0000gn/T/ipykernel_27691/377750046.py:4: UserWarning: Boolean Series key will be reindexed to match DataFrame index.\n",
      "  print(filtered_df[(filtered_df['bedrooms'] == 3) & (df1['sqft_living'] == 490)])\n"
     ]
    }
   ],
   "source": [
    "# there appears to be one entry where the sqft_living is under 500 , yet the house is said to have 3 bedrooms. \n",
    "# this does not seem to be plausible, it might make sense to exclude this entry.\n",
    "\n",
    "print(filtered_df[(filtered_df['bedrooms'] == 3) & (df1['sqft_living'] == 490)])\n",
    "\n",
    "\n"
   ]
  },
  {
   "cell_type": "code",
   "execution_count": 247,
   "id": "fc4bc690-0978-4d3d-8738-d0f9cf9b2ffa",
   "metadata": {},
   "outputs": [
    {
     "name": "stderr",
     "output_type": "stream",
     "text": [
      "/var/folders/02/_ydtglj578xfqwjs1hm49rhc0000gn/T/ipykernel_27691/2022354499.py:1: UserWarning: Boolean Series key will be reindexed to match DataFrame index.\n",
      "  filtered_df1 = filtered_df[~((filtered_df['bedrooms'] == 3) & (df1['sqft_living'] == 490))]\n"
     ]
    },
    {
     "data": {
      "text/plain": [
       "(21597, 23)"
      ]
     },
     "execution_count": 247,
     "metadata": {},
     "output_type": "execute_result"
    }
   ],
   "source": [
    "filtered_df1 = filtered_df[~((filtered_df['bedrooms'] == 3) & (df1['sqft_living'] == 490))]\n",
    "filtered_df1.shape"
   ]
  },
  {
   "cell_type": "code",
   "execution_count": 249,
   "id": "b5a3263d-4032-4ad1-89e4-3e393a1973c2",
   "metadata": {},
   "outputs": [],
   "source": [
    "## one entry has been successfully removed, going to continue to check columns for discrepancies and missing values where applicable.\n"
   ]
  },
  {
   "cell_type": "code",
   "execution_count": 251,
   "id": "225e7e09-61ba-4197-a68f-040a2b34b16e",
   "metadata": {},
   "outputs": [
    {
     "data": {
      "text/plain": [
       "count    2.159700e+04\n",
       "mean     1.510750e+04\n",
       "std      4.143432e+04\n",
       "min      5.200000e+02\n",
       "25%      5.040000e+03\n",
       "50%      7.618000e+03\n",
       "75%      1.068500e+04\n",
       "max      1.651359e+06\n",
       "Name: sqft_lot, dtype: float64"
      ]
     },
     "execution_count": 251,
     "metadata": {},
     "output_type": "execute_result"
    }
   ],
   "source": [
    "filtered_df1['sqft_lot'].describe()"
   ]
  },
  {
   "cell_type": "code",
   "execution_count": 253,
   "id": "ae1a4b67-b7da-4dc5-9480-946ef1b9f4d2",
   "metadata": {},
   "outputs": [
    {
     "data": {
      "text/plain": [
       "count    21597.000000\n",
       "mean      1788.561837\n",
       "std        827.806811\n",
       "min        370.000000\n",
       "25%       1190.000000\n",
       "50%       1560.000000\n",
       "75%       2210.000000\n",
       "max       9410.000000\n",
       "Name: sqft_above, dtype: float64"
      ]
     },
     "execution_count": 253,
     "metadata": {},
     "output_type": "execute_result"
    }
   ],
   "source": [
    "filtered_df1['sqft_above'].describe()"
   ]
  },
  {
   "cell_type": "code",
   "execution_count": 255,
   "id": "fbf5ba5c-27a7-4d6f-8c8d-d98acb890b5a",
   "metadata": {},
   "outputs": [
    {
     "data": {
      "text/plain": [
       "count    21597.000000\n",
       "mean       291.698153\n",
       "std        442.667904\n",
       "min          0.000000\n",
       "25%          0.000000\n",
       "50%          0.000000\n",
       "75%        560.000000\n",
       "max       4820.000000\n",
       "Name: sqft_basement, dtype: float64"
      ]
     },
     "execution_count": 255,
     "metadata": {},
     "output_type": "execute_result"
    }
   ],
   "source": [
    "filtered_df1['sqft_basement'].describe()"
   ]
  },
  {
   "cell_type": "code",
   "execution_count": 257,
   "id": "3681b36d-0932-4261-a90e-42d1f8873bd9",
   "metadata": {},
   "outputs": [
    {
     "name": "stdout",
     "output_type": "stream",
     "text": [
      "               id       date      price  bedrooms  bathrooms  sqft_living  \\\n",
      "8092   1924059029 2014-06-17  4668000.0         5       6.75         9640   \n",
      "12777  1225069038 2014-05-05  2280000.0         7       8.00        13540   \n",
      "\n",
      "       sqft_lot  floors  waterfront  view  condition  grade  sqft_above  \\\n",
      "8092      13068     1.0           1     4          3     12        4820   \n",
      "12777    307752     3.0           0     4          3     12        9410   \n",
      "\n",
      "       sqft_basement  yr_built  yr_renovated zipcode  latitude  longitude  \\\n",
      "8092            4820      1983          2009   98040   47.5570   -122.210   \n",
      "12777           4130      1999             0   98053   47.6675   -121.986   \n",
      "\n",
      "       sqft_living15  sqft_lot15  month  year  \n",
      "8092            3270       10454      6  2014  \n",
      "12777           4850      217800      5  2014  \n"
     ]
    }
   ],
   "source": [
    "print(filtered_df1[(filtered_df1['sqft_basement'] > 4000)])"
   ]
  },
  {
   "cell_type": "code",
   "execution_count": 259,
   "id": "cc594667-7d42-4cbe-acea-a48e4d0d3200",
   "metadata": {},
   "outputs": [],
   "source": [
    "## at first such large basemenrts seemed suspicious but the houses in which they are located have substantial living area"
   ]
  },
  {
   "cell_type": "code",
   "execution_count": 261,
   "id": "21b35bb9-f01d-4012-9735-2fd4105460f9",
   "metadata": {},
   "outputs": [
    {
     "data": {
      "text/plain": [
       "Index(['id', 'date', 'price', 'bedrooms', 'bathrooms', 'sqft_living',\n",
       "       'sqft_lot', 'floors', 'waterfront', 'view', 'condition', 'grade',\n",
       "       'sqft_above', 'sqft_basement', 'yr_built', 'yr_renovated', 'zipcode',\n",
       "       'latitude', 'longitude', 'sqft_living15', 'sqft_lot15', 'month',\n",
       "       'year'],\n",
       "      dtype='object')"
      ]
     },
     "execution_count": 261,
     "metadata": {},
     "output_type": "execute_result"
    }
   ],
   "source": [
    "filtered_df1.columns"
   ]
  },
  {
   "cell_type": "code",
   "execution_count": 263,
   "id": "89848cb6-ed68-4e87-9b6e-1dad0f91e575",
   "metadata": {},
   "outputs": [
    {
     "data": {
      "text/plain": [
       "count    21597.000000\n",
       "mean         1.494073\n",
       "std          0.539693\n",
       "min          1.000000\n",
       "25%          1.000000\n",
       "50%          1.500000\n",
       "75%          2.000000\n",
       "max          3.500000\n",
       "Name: floors, dtype: float64"
      ]
     },
     "execution_count": 263,
     "metadata": {},
     "output_type": "execute_result"
    }
   ],
   "source": [
    "filtered_df1['floors'].describe()"
   ]
  },
  {
   "cell_type": "code",
   "execution_count": 265,
   "id": "2b7c9e85-fc1a-41bd-acff-4c416cea063e",
   "metadata": {},
   "outputs": [
    {
     "data": {
      "text/plain": [
       "waterfront\n",
       "0    21434\n",
       "1      163\n",
       "Name: count, dtype: int64"
      ]
     },
     "execution_count": 265,
     "metadata": {},
     "output_type": "execute_result"
    }
   ],
   "source": [
    "filtered_df1['waterfront'].value_counts()"
   ]
  },
  {
   "cell_type": "code",
   "execution_count": 267,
   "id": "4f34972b-de44-49c0-b5a6-caec96a958ea",
   "metadata": {},
   "outputs": [],
   "source": [
    "# only 163 houses are considered to have waterfront views"
   ]
  },
  {
   "cell_type": "code",
   "execution_count": 269,
   "id": "3d874d77-f9e7-4468-8bca-7a43cbd74697",
   "metadata": {},
   "outputs": [
    {
     "data": {
      "text/plain": [
       "view\n",
       "0    19475\n",
       "2      961\n",
       "3      510\n",
       "1      332\n",
       "4      319\n",
       "Name: count, dtype: int64"
      ]
     },
     "execution_count": 269,
     "metadata": {},
     "output_type": "execute_result"
    }
   ],
   "source": [
    "filtered_df1['view'].value_counts()"
   ]
  },
  {
   "cell_type": "code",
   "execution_count": 271,
   "id": "59c9221b-73d4-4bae-a14a-ca21eb6a652e",
   "metadata": {},
   "outputs": [
    {
     "data": {
      "text/plain": [
       "condition\n",
       "3    14021\n",
       "4     5676\n",
       "5     1700\n",
       "2      171\n",
       "1       29\n",
       "Name: count, dtype: int64"
      ]
     },
     "execution_count": 271,
     "metadata": {},
     "output_type": "execute_result"
    }
   ],
   "source": [
    "filtered_df1['condition'].value_counts()"
   ]
  },
  {
   "cell_type": "code",
   "execution_count": 273,
   "id": "763c7677-2f62-4cc7-8eec-b0935beddfa4",
   "metadata": {},
   "outputs": [
    {
     "data": {
      "text/plain": [
       "grade\n",
       "7     8973\n",
       "8     6065\n",
       "9     2615\n",
       "6     2038\n",
       "10    1134\n",
       "11     399\n",
       "5      241\n",
       "12      89\n",
       "4       29\n",
       "13      13\n",
       "3        1\n",
       "Name: count, dtype: int64"
      ]
     },
     "execution_count": 273,
     "metadata": {},
     "output_type": "execute_result"
    }
   ],
   "source": [
    "filtered_df1['grade'].value_counts()"
   ]
  },
  {
   "cell_type": "code",
   "execution_count": 275,
   "id": "e03202bf-1caa-4559-9de7-ef76a74f8a3b",
   "metadata": {},
   "outputs": [
    {
     "data": {
      "text/plain": [
       "yr_built\n",
       "2014    559\n",
       "2006    453\n",
       "2005    450\n",
       "2004    433\n",
       "2003    421\n",
       "       ... \n",
       "1933     30\n",
       "1901     29\n",
       "1902     27\n",
       "1935     24\n",
       "1934     21\n",
       "Name: count, Length: 116, dtype: int64"
      ]
     },
     "execution_count": 275,
     "metadata": {},
     "output_type": "execute_result"
    }
   ],
   "source": [
    "filtered_df1['yr_built'].value_counts()"
   ]
  },
  {
   "cell_type": "code",
   "execution_count": 277,
   "id": "e8b44897-9d12-4452-bb32-d5c271962594",
   "metadata": {},
   "outputs": [
    {
     "data": {
      "text/plain": [
       "count    21597.000000\n",
       "mean      1971.001991\n",
       "std         29.375729\n",
       "min       1900.000000\n",
       "25%       1951.000000\n",
       "50%       1975.000000\n",
       "75%       1997.000000\n",
       "max       2015.000000\n",
       "Name: yr_built, dtype: float64"
      ]
     },
     "execution_count": 277,
     "metadata": {},
     "output_type": "execute_result"
    }
   ],
   "source": [
    "filtered_df1['yr_built'].describe()"
   ]
  },
  {
   "cell_type": "code",
   "execution_count": 279,
   "id": "370f933b-68b7-4621-b3f3-584397ede8c2",
   "metadata": {},
   "outputs": [],
   "source": [
    "# all houses are within the necessary time frame"
   ]
  },
  {
   "cell_type": "code",
   "execution_count": 283,
   "id": "5aa394e3-21cb-46cb-a910-e62dec8c7a63",
   "metadata": {},
   "outputs": [
    {
     "data": {
      "text/plain": [
       "count    21597.000000\n",
       "mean        84.464787\n",
       "std        401.821438\n",
       "min          0.000000\n",
       "25%          0.000000\n",
       "50%          0.000000\n",
       "75%          0.000000\n",
       "max       2015.000000\n",
       "Name: yr_renovated, dtype: float64"
      ]
     },
     "execution_count": 283,
     "metadata": {},
     "output_type": "execute_result"
    }
   ],
   "source": [
    "filtered_df1['yr_renovated'].describe()"
   ]
  },
  {
   "cell_type": "code",
   "execution_count": 285,
   "id": "3068527e-35ec-4d68-944e-b23796e74827",
   "metadata": {},
   "outputs": [
    {
     "data": {
      "text/plain": [
       "yr_renovated\n",
       "0       20683\n",
       "2014       91\n",
       "2013       37\n",
       "2003       36\n",
       "2005       35\n",
       "        ...  \n",
       "1951        1\n",
       "1959        1\n",
       "1948        1\n",
       "1954        1\n",
       "1944        1\n",
       "Name: count, Length: 70, dtype: int64"
      ]
     },
     "execution_count": 285,
     "metadata": {},
     "output_type": "execute_result"
    }
   ],
   "source": [
    "filtered_df1['yr_renovated'].value_counts()"
   ]
  },
  {
   "cell_type": "code",
   "execution_count": 287,
   "id": "a2b62f68-a7b3-427b-b38f-1e574a6c9474",
   "metadata": {},
   "outputs": [
    {
     "data": {
      "text/plain": [
       "zipcode\n",
       "98103    601\n",
       "98038    589\n",
       "98115    583\n",
       "98052    574\n",
       "98117    553\n",
       "        ... \n",
       "98102    104\n",
       "98010    100\n",
       "98024     80\n",
       "98148     57\n",
       "98039     50\n",
       "Name: count, Length: 70, dtype: int64"
      ]
     },
     "execution_count": 287,
     "metadata": {},
     "output_type": "execute_result"
    }
   ],
   "source": [
    "filtered_df1['zipcode'].value_counts()"
   ]
  },
  {
   "cell_type": "code",
   "execution_count": 289,
   "id": "70da90e1-95db-466d-b8c8-ea92ac37ba31",
   "metadata": {},
   "outputs": [
    {
     "data": {
      "text/plain": [
       "count     21597.000000\n",
       "mean      12767.884104\n",
       "std       27312.373033\n",
       "min         651.000000\n",
       "25%        5100.000000\n",
       "50%        7620.000000\n",
       "75%       10083.000000\n",
       "max      871200.000000\n",
       "Name: sqft_lot15, dtype: float64"
      ]
     },
     "execution_count": 289,
     "metadata": {},
     "output_type": "execute_result"
    }
   ],
   "source": [
    "filtered_df1['sqft_lot15'].describe()"
   ]
  },
  {
   "cell_type": "code",
   "execution_count": 291,
   "id": "825911fa-067d-4b9a-8a18-0d35188d06c9",
   "metadata": {},
   "outputs": [
    {
     "data": {
      "text/plain": [
       "count    2.159700e+04\n",
       "mean     1.510750e+04\n",
       "std      4.143432e+04\n",
       "min      5.200000e+02\n",
       "25%      5.040000e+03\n",
       "50%      7.618000e+03\n",
       "75%      1.068500e+04\n",
       "max      1.651359e+06\n",
       "Name: sqft_lot, dtype: float64"
      ]
     },
     "execution_count": 291,
     "metadata": {},
     "output_type": "execute_result"
    }
   ],
   "source": [
    "filtered_df1['sqft_lot'].describe()"
   ]
  },
  {
   "cell_type": "code",
   "execution_count": 293,
   "id": "bd319f0d-98a4-46cc-91ea-5f811db7e39d",
   "metadata": {},
   "outputs": [],
   "source": [
    "# the max here seems high, but it equates to 37 acres which is within reason"
   ]
  },
  {
   "cell_type": "code",
   "execution_count": 295,
   "id": "bbd201b2-a347-4136-b3e1-14a605e41c11",
   "metadata": {},
   "outputs": [
    {
     "data": {
      "text/plain": [
       "count    21597.000000\n",
       "mean      1986.711071\n",
       "std        685.169606\n",
       "min        399.000000\n",
       "25%       1490.000000\n",
       "50%       1840.000000\n",
       "75%       2360.000000\n",
       "max       6210.000000\n",
       "Name: sqft_living15, dtype: float64"
      ]
     },
     "execution_count": 295,
     "metadata": {},
     "output_type": "execute_result"
    }
   ],
   "source": [
    "filtered_df1['sqft_living15'].describe()"
   ]
  },
  {
   "cell_type": "code",
   "execution_count": 297,
   "id": "5898269b-a675-496d-9fb9-ee56f40a8031",
   "metadata": {},
   "outputs": [
    {
     "data": {
      "text/plain": [
       "month\n",
       "5     2414\n",
       "4     2229\n",
       "7     2210\n",
       "6     2177\n",
       "8     1939\n",
       "10    1878\n",
       "3     1875\n",
       "9     1771\n",
       "12    1470\n",
       "11    1409\n",
       "2     1247\n",
       "1      978\n",
       "Name: count, dtype: int64"
      ]
     },
     "execution_count": 297,
     "metadata": {},
     "output_type": "execute_result"
    }
   ],
   "source": [
    "filtered_df1['month'].value_counts()"
   ]
  },
  {
   "cell_type": "code",
   "execution_count": 299,
   "id": "6ea57e46-7dda-4e7c-8967-650a6aaf50bf",
   "metadata": {},
   "outputs": [],
   "source": [
    "# all 12 months are represented"
   ]
  },
  {
   "cell_type": "code",
   "execution_count": 301,
   "id": "4eed0ef6-09e8-420c-9b9c-ec6a356bdac1",
   "metadata": {},
   "outputs": [
    {
     "data": {
      "text/plain": [
       "year\n",
       "2014    14622\n",
       "2015     6975\n",
       "Name: count, dtype: int64"
      ]
     },
     "execution_count": 301,
     "metadata": {},
     "output_type": "execute_result"
    }
   ],
   "source": [
    "filtered_df1['year'].value_counts()"
   ]
  },
  {
   "cell_type": "code",
   "execution_count": 303,
   "id": "8dd7950f-5efd-4c92-bff1-4e5a787e60ee",
   "metadata": {},
   "outputs": [],
   "source": [
    "# all entries are within the time frame of this data set"
   ]
  },
  {
   "cell_type": "code",
   "execution_count": 312,
   "id": "c4f16247-cfbe-4327-91ca-5d4d377b40c2",
   "metadata": {},
   "outputs": [
    {
     "data": {
      "text/html": [
       "<div>\n",
       "<style scoped>\n",
       "    .dataframe tbody tr th:only-of-type {\n",
       "        vertical-align: middle;\n",
       "    }\n",
       "\n",
       "    .dataframe tbody tr th {\n",
       "        vertical-align: top;\n",
       "    }\n",
       "\n",
       "    .dataframe thead th {\n",
       "        text-align: right;\n",
       "    }\n",
       "</style>\n",
       "<table border=\"1\" class=\"dataframe\">\n",
       "  <thead>\n",
       "    <tr style=\"text-align: right;\">\n",
       "      <th></th>\n",
       "      <th>date</th>\n",
       "      <th>price</th>\n",
       "      <th>bedrooms</th>\n",
       "      <th>bathrooms</th>\n",
       "      <th>sqft_living</th>\n",
       "      <th>sqft_lot</th>\n",
       "      <th>floors</th>\n",
       "      <th>waterfront</th>\n",
       "      <th>view</th>\n",
       "      <th>condition</th>\n",
       "      <th>grade</th>\n",
       "      <th>sqft_above</th>\n",
       "      <th>sqft_basement</th>\n",
       "      <th>yr_built</th>\n",
       "      <th>yr_renovated</th>\n",
       "      <th>latitude</th>\n",
       "      <th>longitude</th>\n",
       "      <th>sqft_living15</th>\n",
       "      <th>sqft_lot15</th>\n",
       "      <th>month</th>\n",
       "      <th>year</th>\n",
       "    </tr>\n",
       "  </thead>\n",
       "  <tbody>\n",
       "    <tr>\n",
       "      <th>count</th>\n",
       "      <td>21612</td>\n",
       "      <td>2.161200e+04</td>\n",
       "      <td>21612.000000</td>\n",
       "      <td>21612.000000</td>\n",
       "      <td>21612.000000</td>\n",
       "      <td>2.161200e+04</td>\n",
       "      <td>21612.000000</td>\n",
       "      <td>21612.000000</td>\n",
       "      <td>21612.000000</td>\n",
       "      <td>21612.000000</td>\n",
       "      <td>21612.000000</td>\n",
       "      <td>21612.000000</td>\n",
       "      <td>21612.000000</td>\n",
       "      <td>21612.000000</td>\n",
       "      <td>21612.000000</td>\n",
       "      <td>21612.000000</td>\n",
       "      <td>21612.000000</td>\n",
       "      <td>21612.000000</td>\n",
       "      <td>21612.000000</td>\n",
       "      <td>21612.000000</td>\n",
       "      <td>21612.000000</td>\n",
       "    </tr>\n",
       "    <tr>\n",
       "      <th>mean</th>\n",
       "      <td>2014-10-29 04:46:26.451971328</td>\n",
       "      <td>5.400835e+05</td>\n",
       "      <td>3.369471</td>\n",
       "      <td>2.114774</td>\n",
       "      <td>2079.921016</td>\n",
       "      <td>1.510739e+04</td>\n",
       "      <td>1.494332</td>\n",
       "      <td>0.007542</td>\n",
       "      <td>0.234314</td>\n",
       "      <td>3.409356</td>\n",
       "      <td>7.656904</td>\n",
       "      <td>1788.425319</td>\n",
       "      <td>291.495697</td>\n",
       "      <td>1971.006247</td>\n",
       "      <td>84.406163</td>\n",
       "      <td>47.560047</td>\n",
       "      <td>-122.213891</td>\n",
       "      <td>1986.582871</td>\n",
       "      <td>12768.828984</td>\n",
       "      <td>6.574449</td>\n",
       "      <td>2014.322969</td>\n",
       "    </tr>\n",
       "    <tr>\n",
       "      <th>min</th>\n",
       "      <td>2014-05-02 00:00:00</td>\n",
       "      <td>7.500000e+04</td>\n",
       "      <td>0.000000</td>\n",
       "      <td>0.000000</td>\n",
       "      <td>290.000000</td>\n",
       "      <td>5.200000e+02</td>\n",
       "      <td>1.000000</td>\n",
       "      <td>0.000000</td>\n",
       "      <td>0.000000</td>\n",
       "      <td>1.000000</td>\n",
       "      <td>1.000000</td>\n",
       "      <td>290.000000</td>\n",
       "      <td>0.000000</td>\n",
       "      <td>1900.000000</td>\n",
       "      <td>0.000000</td>\n",
       "      <td>47.155900</td>\n",
       "      <td>-122.519000</td>\n",
       "      <td>399.000000</td>\n",
       "      <td>651.000000</td>\n",
       "      <td>1.000000</td>\n",
       "      <td>2014.000000</td>\n",
       "    </tr>\n",
       "    <tr>\n",
       "      <th>25%</th>\n",
       "      <td>2014-07-22 00:00:00</td>\n",
       "      <td>3.218375e+05</td>\n",
       "      <td>3.000000</td>\n",
       "      <td>1.750000</td>\n",
       "      <td>1426.500000</td>\n",
       "      <td>5.040000e+03</td>\n",
       "      <td>1.000000</td>\n",
       "      <td>0.000000</td>\n",
       "      <td>0.000000</td>\n",
       "      <td>3.000000</td>\n",
       "      <td>7.000000</td>\n",
       "      <td>1190.000000</td>\n",
       "      <td>0.000000</td>\n",
       "      <td>1951.000000</td>\n",
       "      <td>0.000000</td>\n",
       "      <td>47.470975</td>\n",
       "      <td>-122.328000</td>\n",
       "      <td>1490.000000</td>\n",
       "      <td>5100.000000</td>\n",
       "      <td>4.000000</td>\n",
       "      <td>2014.000000</td>\n",
       "    </tr>\n",
       "    <tr>\n",
       "      <th>50%</th>\n",
       "      <td>2014-10-16 00:00:00</td>\n",
       "      <td>4.500000e+05</td>\n",
       "      <td>3.000000</td>\n",
       "      <td>2.250000</td>\n",
       "      <td>1910.000000</td>\n",
       "      <td>7.619000e+03</td>\n",
       "      <td>1.500000</td>\n",
       "      <td>0.000000</td>\n",
       "      <td>0.000000</td>\n",
       "      <td>3.000000</td>\n",
       "      <td>7.000000</td>\n",
       "      <td>1560.000000</td>\n",
       "      <td>0.000000</td>\n",
       "      <td>1975.000000</td>\n",
       "      <td>0.000000</td>\n",
       "      <td>47.571800</td>\n",
       "      <td>-122.230000</td>\n",
       "      <td>1840.000000</td>\n",
       "      <td>7620.000000</td>\n",
       "      <td>6.000000</td>\n",
       "      <td>2014.000000</td>\n",
       "    </tr>\n",
       "    <tr>\n",
       "      <th>75%</th>\n",
       "      <td>2015-02-17 00:00:00</td>\n",
       "      <td>6.450000e+05</td>\n",
       "      <td>4.000000</td>\n",
       "      <td>2.500000</td>\n",
       "      <td>2550.000000</td>\n",
       "      <td>1.068825e+04</td>\n",
       "      <td>2.000000</td>\n",
       "      <td>0.000000</td>\n",
       "      <td>0.000000</td>\n",
       "      <td>4.000000</td>\n",
       "      <td>8.000000</td>\n",
       "      <td>2210.000000</td>\n",
       "      <td>560.000000</td>\n",
       "      <td>1997.000000</td>\n",
       "      <td>0.000000</td>\n",
       "      <td>47.678000</td>\n",
       "      <td>-122.125000</td>\n",
       "      <td>2360.000000</td>\n",
       "      <td>10083.250000</td>\n",
       "      <td>9.000000</td>\n",
       "      <td>2015.000000</td>\n",
       "    </tr>\n",
       "    <tr>\n",
       "      <th>max</th>\n",
       "      <td>2015-05-27 00:00:00</td>\n",
       "      <td>7.700000e+06</td>\n",
       "      <td>11.000000</td>\n",
       "      <td>8.000000</td>\n",
       "      <td>13540.000000</td>\n",
       "      <td>1.651359e+06</td>\n",
       "      <td>3.500000</td>\n",
       "      <td>1.000000</td>\n",
       "      <td>4.000000</td>\n",
       "      <td>5.000000</td>\n",
       "      <td>13.000000</td>\n",
       "      <td>9410.000000</td>\n",
       "      <td>4820.000000</td>\n",
       "      <td>2015.000000</td>\n",
       "      <td>2015.000000</td>\n",
       "      <td>47.777600</td>\n",
       "      <td>-121.315000</td>\n",
       "      <td>6210.000000</td>\n",
       "      <td>871200.000000</td>\n",
       "      <td>12.000000</td>\n",
       "      <td>2015.000000</td>\n",
       "    </tr>\n",
       "    <tr>\n",
       "      <th>std</th>\n",
       "      <td>NaN</td>\n",
       "      <td>3.671351e+05</td>\n",
       "      <td>0.907982</td>\n",
       "      <td>0.770177</td>\n",
       "      <td>918.456818</td>\n",
       "      <td>4.142142e+04</td>\n",
       "      <td>0.539991</td>\n",
       "      <td>0.086519</td>\n",
       "      <td>0.766334</td>\n",
       "      <td>0.650668</td>\n",
       "      <td>1.175477</td>\n",
       "      <td>828.094487</td>\n",
       "      <td>442.580931</td>\n",
       "      <td>29.373636</td>\n",
       "      <td>401.688123</td>\n",
       "      <td>0.138564</td>\n",
       "      <td>0.140829</td>\n",
       "      <td>685.392610</td>\n",
       "      <td>27304.756179</td>\n",
       "      <td>3.115377</td>\n",
       "      <td>0.467622</td>\n",
       "    </tr>\n",
       "  </tbody>\n",
       "</table>\n",
       "</div>"
      ],
      "text/plain": [
       "                                date         price      bedrooms  \\\n",
       "count                          21612  2.161200e+04  21612.000000   \n",
       "mean   2014-10-29 04:46:26.451971328  5.400835e+05      3.369471   \n",
       "min              2014-05-02 00:00:00  7.500000e+04      0.000000   \n",
       "25%              2014-07-22 00:00:00  3.218375e+05      3.000000   \n",
       "50%              2014-10-16 00:00:00  4.500000e+05      3.000000   \n",
       "75%              2015-02-17 00:00:00  6.450000e+05      4.000000   \n",
       "max              2015-05-27 00:00:00  7.700000e+06     11.000000   \n",
       "std                              NaN  3.671351e+05      0.907982   \n",
       "\n",
       "          bathrooms   sqft_living      sqft_lot        floors    waterfront  \\\n",
       "count  21612.000000  21612.000000  2.161200e+04  21612.000000  21612.000000   \n",
       "mean       2.114774   2079.921016  1.510739e+04      1.494332      0.007542   \n",
       "min        0.000000    290.000000  5.200000e+02      1.000000      0.000000   \n",
       "25%        1.750000   1426.500000  5.040000e+03      1.000000      0.000000   \n",
       "50%        2.250000   1910.000000  7.619000e+03      1.500000      0.000000   \n",
       "75%        2.500000   2550.000000  1.068825e+04      2.000000      0.000000   \n",
       "max        8.000000  13540.000000  1.651359e+06      3.500000      1.000000   \n",
       "std        0.770177    918.456818  4.142142e+04      0.539991      0.086519   \n",
       "\n",
       "               view     condition         grade    sqft_above  sqft_basement  \\\n",
       "count  21612.000000  21612.000000  21612.000000  21612.000000   21612.000000   \n",
       "mean       0.234314      3.409356      7.656904   1788.425319     291.495697   \n",
       "min        0.000000      1.000000      1.000000    290.000000       0.000000   \n",
       "25%        0.000000      3.000000      7.000000   1190.000000       0.000000   \n",
       "50%        0.000000      3.000000      7.000000   1560.000000       0.000000   \n",
       "75%        0.000000      4.000000      8.000000   2210.000000     560.000000   \n",
       "max        4.000000      5.000000     13.000000   9410.000000    4820.000000   \n",
       "std        0.766334      0.650668      1.175477    828.094487     442.580931   \n",
       "\n",
       "           yr_built  yr_renovated      latitude     longitude  sqft_living15  \\\n",
       "count  21612.000000  21612.000000  21612.000000  21612.000000   21612.000000   \n",
       "mean    1971.006247     84.406163     47.560047   -122.213891    1986.582871   \n",
       "min     1900.000000      0.000000     47.155900   -122.519000     399.000000   \n",
       "25%     1951.000000      0.000000     47.470975   -122.328000    1490.000000   \n",
       "50%     1975.000000      0.000000     47.571800   -122.230000    1840.000000   \n",
       "75%     1997.000000      0.000000     47.678000   -122.125000    2360.000000   \n",
       "max     2015.000000   2015.000000     47.777600   -121.315000    6210.000000   \n",
       "std       29.373636    401.688123      0.138564      0.140829     685.392610   \n",
       "\n",
       "          sqft_lot15         month          year  \n",
       "count   21612.000000  21612.000000  21612.000000  \n",
       "mean    12768.828984      6.574449   2014.322969  \n",
       "min       651.000000      1.000000   2014.000000  \n",
       "25%      5100.000000      4.000000   2014.000000  \n",
       "50%      7620.000000      6.000000   2014.000000  \n",
       "75%     10083.250000      9.000000   2015.000000  \n",
       "max    871200.000000     12.000000   2015.000000  \n",
       "std     27304.756179      3.115377      0.467622  "
      ]
     },
     "execution_count": 312,
     "metadata": {},
     "output_type": "execute_result"
    }
   ],
   "source": [
    "df.describe()"
   ]
  },
  {
   "cell_type": "markdown",
   "id": "6182faab-7c67-49ef-99bc-861de470cb16",
   "metadata": {},
   "source": [
    "## Export Data"
   ]
  },
  {
   "cell_type": "code",
   "execution_count": 314,
   "id": "2db71910-491b-46fe-aa21-2072845b067d",
   "metadata": {},
   "outputs": [],
   "source": [
    "# export data to prepared data folder\n",
    "\n",
    "path1 = r'/Users/piperdutcher/Documents/Achievement 6/02 Data/Prepared Data'\n",
    "filtered_df1.to_pickle(os.path.join(path1, 'initial_clean.pkl'))"
   ]
  },
  {
   "cell_type": "code",
   "execution_count": null,
   "id": "4d9d1d73-749b-4a14-8c64-42bebab4f1a3",
   "metadata": {},
   "outputs": [],
   "source": []
  }
 ],
 "metadata": {
  "kernelspec": {
   "display_name": "Python 3 (ipykernel)",
   "language": "python",
   "name": "python3"
  },
  "language_info": {
   "codemirror_mode": {
    "name": "ipython",
    "version": 3
   },
   "file_extension": ".py",
   "mimetype": "text/x-python",
   "name": "python",
   "nbconvert_exporter": "python",
   "pygments_lexer": "ipython3",
   "version": "3.11.7"
  }
 },
 "nbformat": 4,
 "nbformat_minor": 5
}
